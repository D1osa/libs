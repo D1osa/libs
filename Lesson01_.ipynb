{
  "nbformat": 4,
  "nbformat_minor": 0,
  "metadata": {
    "kernelspec": {
      "display_name": "Python 3",
      "language": "python",
      "name": "python3"
    },
    "language_info": {
      "codemirror_mode": {
        "name": "ipython",
        "version": 3
      },
      "file_extension": ".py",
      "mimetype": "text/x-python",
      "name": "python",
      "nbconvert_exporter": "python",
      "pygments_lexer": "ipython3",
      "version": "3.6.8"
    },
    "colab": {
      "name": "Lesson01_.ipynb",
      "provenance": [],
      "collapsed_sections": [
        "Vf6sI8iuJSCP",
        "9E3X33OdJSCR",
        "IvJlU8O5JSCS",
        "5_C-1FQmJSCT",
        "D6vrl61dJSCW",
        "yTKwW0u4JSCX",
        "31Qivx7UJSCY",
        "0KQCIFd2JSCY",
        "dRXRTtdlJSCY"
      ]
    }
  },
  "cells": [
    {
      "cell_type": "markdown",
      "metadata": {
        "id": "R6uDxGwXJSB8"
      },
      "source": [
        "## Урок 1.\n",
        "# Введение в задачу классификации.<br>Постановка задачи и подготовка данных.\n",
        "\n",
        "**План занятия**\n",
        "\n",
        "* [Теоретическая часть](#theory)\n",
        "    * [Задача классификации](#classification)\n",
        "    * [Метрики качества](#metrics)\n",
        "* [Практическая часть](#practice)\n",
        "    * [Постановка задачи](#task)\n",
        "    * [Загрузка данных](#load_data)\n",
        "    * [Приведение типов](#cast)\n",
        "    * [Обзор данных](#review)    \n",
        "    * [Обработка пропусков](#gaps)\n",
        "    * [Обработка выбросов](#outliers)\n",
        "    * [Построение новых признаков](#new_features)\n",
        "    * [Сохранение обучающего датасета](#saving)\n",
        "* [Курсовой проект](#course_project)\n",
        "    * [Постановка задачи](#course_project_task)\n",
        "    * [Примерное описание этапов выполнения курсового проекта](#course_project_steps)\n",
        "    * [Обзор данных](#course_project_review)    "
      ]
    },
    {
      "cell_type": "markdown",
      "metadata": {
        "id": "fEnrJgPIJSCA"
      },
      "source": [
        "## <center>Теоретическая часть<a class=\"anchor\" id=\"theory\"></a><center>"
      ]
    },
    {
      "cell_type": "markdown",
      "metadata": {
        "id": "5pvW0Ws5JSCB"
      },
      "source": [
        "### Задача классификации<a class=\"anchor\" id=\"classification\"></a>"
      ]
    },
    {
      "cell_type": "markdown",
      "metadata": {
        "id": "hmlNDRBhJSCC"
      },
      "source": [
        "Имеется множество объектов (ситуаций), разделённых некоторым образом на классы. Для некоторых объектов из этого множества известна их классовая принадлежность - это подмножество называется обучающей выборкой. Классовая принадлежность остальных объектов не известна. Требуется построить алгоритм, способный классифицировать произвольный объект из исходного множества.\n",
        "\n",
        "*Классифицировать объект* — значит, указать номер (или наименование класса), к которому относится данный объект.\n",
        "\n",
        "*Классификация объекта* — номер или наименование класса, выдаваемый алгоритмом классификации в результате его применения к данному конкретному объекту.\n",
        "\n",
        "Ссылка на источник:<br>\n",
        "http://www.machinelearning.ru/wiki/index.php?title=%D0%9A%D0%BB%D0%B0%D1%81%D1%81%D0%B8%D1%84%D0%B8%D0%BA%D0%B0%D1%86%D0%B8%D1%8F"
      ]
    },
    {
      "cell_type": "markdown",
      "metadata": {
        "id": "_0cRtCgQJSCC"
      },
      "source": [
        "**Бинарная классификация**"
      ]
    },
    {
      "cell_type": "markdown",
      "metadata": {
        "id": "pKG8FNRnJSCD"
      },
      "source": [
        "Данные разделены на два класса, необходимо обучить модель определять принадлежность произвольного объекта (из рассматриваемого множества) к одному из них. На выходе алгоритм должен выдавать либо метку одного из двух классов, либо вероятности принадлежности рассматриваемого объекта к каждому из них."
      ]
    },
    {
      "cell_type": "markdown",
      "metadata": {
        "id": "RzQwRCfNJSCD"
      },
      "source": [
        "*Пример решения задачи бинарной классификации с помощью линейной модели*"
      ]
    },
    {
      "cell_type": "markdown",
      "metadata": {
        "id": "8uz34A1sJSCE"
      },
      "source": [
        "<img src=\"bin_class.png\">"
      ]
    },
    {
      "cell_type": "markdown",
      "metadata": {
        "id": "hc4s0uJhJSCF"
      },
      "source": [
        "*Пример решения задачи бинарной классификации с помощью деревьев решений*"
      ]
    },
    {
      "cell_type": "markdown",
      "metadata": {
        "id": "vMs8bNHZJSCG"
      },
      "source": [
        "<img src=\"bin_class2.jpg\">"
      ]
    },
    {
      "cell_type": "markdown",
      "metadata": {
        "id": "8Dp15o6kJSCG"
      },
      "source": [
        "**Многоклассовая классификация**"
      ]
    },
    {
      "cell_type": "markdown",
      "metadata": {
        "id": "gDJ6UmlfJSCH"
      },
      "source": [
        "Постановка задачи аналогична задаче бинарной классификации, при условии, что количество классов больше двух.\n",
        "Решается задача, как правило, с помощью всё тех же бинарных классификаторов, но используются различные подходы при их обучении и агрегации прогнозов."
      ]
    },
    {
      "cell_type": "markdown",
      "metadata": {
        "id": "ULhN2DdgJSCH"
      },
      "source": [
        "*Подход One-vs-All*\n",
        "\n",
        "Обучается N бинарных классификаторов, где N - количестве классов и N > 2, таким образом, что каждый из них учится определять только один вид класса от всех остальных. После чего входной объект оценивается каждым из классификаторов и принимается решение об отнесении объекта к одному из N классов, исходя из того, какой классификатор показал большую степень уверенности в том, что объект относится именно к его классу."
      ]
    },
    {
      "cell_type": "markdown",
      "metadata": {
        "id": "bxuKswp_JSCI"
      },
      "source": [
        "<img src=\"multi_class.png\">"
      ]
    },
    {
      "cell_type": "markdown",
      "metadata": {
        "id": "OTrAz4xsJSCI"
      },
      "source": [
        "### Метрики качества<a class=\"anchor\" id=\"metrics\"></a>"
      ]
    },
    {
      "cell_type": "markdown",
      "metadata": {
        "id": "lvkvHI8gJSCI"
      },
      "source": [
        "**Confusion matrix (матрица ошибок)**"
      ]
    },
    {
      "cell_type": "markdown",
      "metadata": {
        "id": "XEe384JkJSCJ"
      },
      "source": [
        "*Пример*\n",
        "\n",
        "У нас есть выборка из 13 животных, из которых 8 - кошки и 5 - другие животные. После обучения классификатора, мы попробовали определить с его помощью класс животного (кошка это или нет) и что бы более наглядно увидеть результаты его работы построили следующую таблицу, которая называется \"матрицей ошибок / неточностей\"."
      ]
    },
    {
      "cell_type": "markdown",
      "metadata": {
        "id": "twxXMiP-JSCJ"
      },
      "source": [
        "<img src=\"confusion_matrix.jpg\">"
      ]
    },
    {
      "cell_type": "markdown",
      "metadata": {
        "id": "cUzPuLcEJSCJ"
      },
      "source": [
        "Positive - алгоритм предсказал, что объект относится к \"основному\" классу.\n",
        "* True Positive (TP) - истино-положительное решение, алгоритм предсказал, что объект относится к \"основному\" классу и оказался прав.\n",
        "* False Positive (FP) - ложно-положительное решение, алгоритм предсказал, что объект относится к \"основному\" классу и ошибся.\n",
        "\n",
        "Negative - алгоритм предсказал, что объект относится к \"альтернативному\" классу.\n",
        "* True Negative (TN) - истино-отрицательное решение, алгоритм предсказал, что объект относится к \"альтернативному\" классу и оказался прав.\n",
        "* False Negative (FN) - ложно-отрицательное решение, алгоритм предсказал, что объект относится к \"альтернативному\" классу и ошибся."
      ]
    },
    {
      "cell_type": "markdown",
      "metadata": {
        "id": "7krY_fhvJSCK"
      },
      "source": [
        "Исходя из этой нотации, получается, что 8 животных алгоритм классифицировал верно (5 - кошек и 3 - других вида), а в 5 случаях ошибся (алгоритм не распознал 3 кошки, а 2 других вида животных наоборот принял за кошек)."
      ]
    },
    {
      "cell_type": "markdown",
      "metadata": {
        "id": "Lr-tbWUaJSCK"
      },
      "source": [
        "**Accuracy (доля правильных ответов)**"
      ]
    },
    {
      "cell_type": "markdown",
      "metadata": {
        "id": "MylwczfJJSCL"
      },
      "source": [
        "*Accuracy* - доля правильных ответов отражает процент объектов, для которых классы были определены верно, среди всего множества объектов."
      ]
    },
    {
      "cell_type": "markdown",
      "metadata": {
        "id": "iu9Fzk8aJSCL"
      },
      "source": [
        "<center>$\\large accuracy = \\LARGE \\frac{T}{N} = \\frac{TP \\: + \\: TN}{TP \\: + \\: TN \\: + \\: FP \\: + \\: FN}$<center>"
      ]
    },
    {
      "cell_type": "markdown",
      "metadata": {
        "id": "H9gU6P4YJSCM"
      },
      "source": [
        "$T$ - количество объектов, для которых классы были определены верно<br>\n",
        "$N$ - общее количество объектов"
      ]
    },
    {
      "cell_type": "markdown",
      "metadata": {
        "id": "21_sacwKJSCM"
      },
      "source": [
        "Основная проблема данной метрики в том, что она не позволяет производить более детализированную оценку работы алгоритма, как следствие она может показывать высокое качество в тех случаях, где алгоритм этого явно не заслуживает. \n",
        "\n",
        "Как пример рассмотри случай несбалансированной выборки, когда у нас есть 100 объектов, 90 из которых относятся к основному классу, а 10 к альтернатинвому. Мы можем добиться показателя данной метрики равного 0.9 (90% точность модели), если просто задим константную модель, которая всегда будет предсказывать основной класс."
      ]
    },
    {
      "cell_type": "markdown",
      "metadata": {
        "id": "VFgMKwTQJSCM"
      },
      "source": [
        "**Precision (точность) & Recall (полнота)**"
      ]
    },
    {
      "cell_type": "markdown",
      "metadata": {
        "id": "BorV5AihJSCM"
      },
      "source": [
        "*Precision* - точность отражает какой процент объектов, отнесённых к \"основному\" классу, действительно являются таковыми.\n",
        "\n",
        "*Recall* - полнота отражает какой процент объектов \"основного\" класса было обнаружено алгоритмом."
      ]
    },
    {
      "cell_type": "markdown",
      "metadata": {
        "id": "gp2a2rKUJSCM"
      },
      "source": [
        "<center>$\\large precision = \\LARGE \\frac{TP}{TP \\: + \\: FP} \\:\\:\\:\\:\\: \\large recall = \\LARGE \\frac{TP}{TP \\: + \\: FN}$<center>"
      ]
    },
    {
      "cell_type": "markdown",
      "metadata": {
        "id": "UlCrjLYlJSCN"
      },
      "source": [
        "<img src=\"prec_vs_recall.png\">"
      ]
    },
    {
      "cell_type": "markdown",
      "metadata": {
        "id": "C-KM9h7fJSCN"
      },
      "source": [
        "**F-score (F-мера, гармоническое среднее)**"
      ]
    },
    {
      "cell_type": "markdown",
      "metadata": {
        "id": "JzciEvZ3JSCN"
      },
      "source": [
        "*F-score* - метрика объединяющая в себе точность и полноту, выдавая как результат их гармоническое среднее, а коэффициент $\\beta$, позволяет балансирвоать вклад, вносимый точностью, тем самым акцентируя внимание на той метрике, максимизация которой для нас наиболее приоритетна.\n",
        "\n",
        "Наиболее часто встречающаяся вариация данной метрики - это F1-score, когда $\\beta$ = 1, а влияние точности и полноты одинаково."
      ]
    },
    {
      "cell_type": "markdown",
      "metadata": {
        "id": "SrZNmEu4JSCN"
      },
      "source": [
        "<center>$\\LARGE F_{\\beta} = (1+ \\beta^2) \\cdot \\frac{precision \\: \\cdot \\: recall}{(\\beta^2 \\cdot precision) \\: + \\: recall}$<center>"
      ]
    },
    {
      "cell_type": "markdown",
      "metadata": {
        "id": "cddBCG_xJSCN"
      },
      "source": [
        "**PR-кривая**"
      ]
    },
    {
      "cell_type": "markdown",
      "metadata": {
        "id": "xTmt5pUQJSCN"
      },
      "source": [
        "Графичекая характеристика качества бинарного классификатора, отображает зависимость изменения точности алгоритма от его полноты."
      ]
    },
    {
      "cell_type": "markdown",
      "metadata": {
        "id": "Ab87tuBfJSCO"
      },
      "source": [
        "<img src=\"pr-curve.png\">"
      ]
    },
    {
      "cell_type": "markdown",
      "metadata": {
        "id": "jUYwwjk3JSCO"
      },
      "source": [
        "**ROC-кривая**"
      ]
    },
    {
      "cell_type": "markdown",
      "metadata": {
        "id": "h1Hmlv7hJSCO"
      },
      "source": [
        "Графичекая характеристика качества бинарного классификатора, отображает зависимость доли верных положительных классификаций *True Positive Rate (TPR)* от доли ложных положительных классификаций *False Positive Rate (FPR)*."
      ]
    },
    {
      "cell_type": "markdown",
      "metadata": {
        "id": "irysdQqOJSCO"
      },
      "source": [
        "<center>$\\large TPR = \\LARGE \\frac{TP}{TP \\: + \\: FN} \\:\\:\\:\\:\\: \\large FPR = \\LARGE \\frac{FP}{FP \\: + \\: TN}$<center>"
      ]
    },
    {
      "cell_type": "markdown",
      "metadata": {
        "id": "-PE-UZAwJSCO"
      },
      "source": [
        "<img src=\"roc-curve.png\">"
      ]
    },
    {
      "cell_type": "markdown",
      "metadata": {
        "id": "lAbiO53OJSCO"
      },
      "source": [
        "## <center>Практическая часть<a class=\"anchor\" id=\"practice\"></a><center>"
      ]
    },
    {
      "cell_type": "markdown",
      "metadata": {
        "id": "Vf6sI8iuJSCP"
      },
      "source": [
        "### Постановка задачи<a class=\"anchor\" id=\"task\"></a>"
      ]
    },
    {
      "cell_type": "markdown",
      "metadata": {
        "id": "V_uSv-OAJSCP"
      },
      "source": [
        "Требуется на основании демографических данных о клиентах банка, истории их платежей и состоянии счета, предсказать невыполнение их обязательств по кредитной карте в следующем месяце."
      ]
    },
    {
      "cell_type": "markdown",
      "metadata": {
        "id": "jkuEzA4TJSCP"
      },
      "source": [
        "**Описание датасета**\n",
        "\n",
        "* **LIMIT_BAL** - Сумма предоставленного кредита\n",
        "* **SEX** - Пол (1=мужчина, 2=женщина)\n",
        "* **EDUCATION** - Образование (1=аспирантура, 2=университет, 3=старшая школа, 4=прочее, 5=неизвестно, 6=неизвестно)\n",
        "* **MARRIAGE** - Семейное положение (1=женат/замужен, 2=не женат/не замуженм, 3=прочее)\n",
        "* **AGE** - Возраст (в годах)\n",
        "* **PAY_1** - Статус погашения в Сентябре (-1=погашен полностью, 0=погашен частично, 1=отсрочка платежа на один месяц, .., 3=отсрочка платежа на три месяца и более)\n",
        "* **PAY_2** - Статус погашения в Августе\n",
        "* **PAY_3** - Статус погашения в Июле\n",
        "* **PAY_4** - Статус погашения в Июне\n",
        "* **PAY_5** - Статус погашения в Мае\n",
        "* **PAY_6** - Статус погашения в Апреле\n",
        "* **BILL_AMT1** - Сумма выписки по счету в Сентябре\n",
        "* **BILL_AMT2** - Сумма выписки по счету в Августе\n",
        "* **BILL_AMT3** - Сумма выписки по счету в Июле\n",
        "* **BILL_AMT4** - Сумма выписки по счету в Июне\n",
        "* **BILL_AMT5** - Сумма выписки по счету в Мае\n",
        "* **BILL_AMT6** - Сумма выписки по счету в Апреле\n",
        "* **PAY_AMT1** - Сумма предыдущего платежа в Сентябре\n",
        "* **PAY_AMT2** - Сумма предыдущего платежа в Августе\n",
        "* **PAY_AMT3** - Сумма предыдущего платежа в Июле\n",
        "* **PAY_AMT4** - Сумма предыдущего платежа в Июне\n",
        "* **PAY_AMT5** - Сумма предыдущего платежа в Мае\n",
        "* **PAY_AMT6** - Сумма предыдущего платежа в Апреле\n",
        "* **NEXT_MONTH_DEFAULT** - Просрочка платежа в следующем месяце (1=да, 0=нет)"
      ]
    },
    {
      "cell_type": "markdown",
      "metadata": {
        "id": "48j6pCJDJSCP"
      },
      "source": [
        "- - - "
      ]
    },
    {
      "cell_type": "markdown",
      "metadata": {
        "id": "GmbhAPBtJSCP"
      },
      "source": [
        "**Подключение библиотек и скриптов**"
      ]
    },
    {
      "cell_type": "code",
      "metadata": {
        "id": "105QPe6GJSCQ"
      },
      "source": [
        "import numpy as np\n",
        "import pandas as pd\n",
        "import matplotlib.pyplot as plt"
      ],
      "execution_count": 65,
      "outputs": []
    },
    {
      "cell_type": "markdown",
      "metadata": {
        "id": "P0W3surRJSCQ"
      },
      "source": [
        "**Пути к директориям и файлам**"
      ]
    },
    {
      "cell_type": "code",
      "metadata": {
        "id": "JSsLK_r7JSCQ"
      },
      "source": [
        "# input\n",
        "DATASET_PATH = 'training_project_data.csv'\n",
        "\n",
        "# output\n",
        "PREP_DATASET_PATH = 'training_project_data_prep.csv'"
      ],
      "execution_count": 66,
      "outputs": []
    },
    {
      "cell_type": "markdown",
      "metadata": {
        "id": "9E3X33OdJSCR"
      },
      "source": [
        "### Загрузка данных<a class=\"anchor\" id=\"load_data\"></a>"
      ]
    },
    {
      "cell_type": "code",
      "metadata": {
        "colab": {
          "base_uri": "https://localhost:8080/",
          "height": 299
        },
        "id": "iat5RbHiJSCR",
        "outputId": "6cc1348c-bffa-4054-89e3-f7faf32b5140"
      },
      "source": [
        "df = pd.read_csv(DATASET_PATH)\n",
        "df.head()"
      ],
      "execution_count": 69,
      "outputs": [
        {
          "output_type": "execute_result",
          "data": {
            "text/plain": [
              "   LIMIT_BAL  SEX  EDUCATION  MARRIAGE  AGE  PAY_1  PAY_2  PAY_3  PAY_4  \\\n",
              "0   150000.0    2          2         2   24      1      2      0      0   \n",
              "1    50000.0    2          3         1   46      3      3      3      3   \n",
              "2   150000.0    2          2         1   41     -1     -1     -1     -1   \n",
              "3   150000.0    2          2         2   35      0      0      0      0   \n",
              "4    70000.0    2          1         1   35      1      2      2      2   \n",
              "\n",
              "   PAY_5  ...  BILL_AMT4  BILL_AMT5  BILL_AMT6  PAY_AMT1  PAY_AMT2  PAY_AMT3  \\\n",
              "0      0  ...    17853.0    34527.0    28277.0       0.0    2145.0   10000.0   \n",
              "1      2  ...    30748.0    30162.0    30016.0       0.0       0.0       0.0   \n",
              "2      0  ...     6784.0     6923.0    14116.0       0.0       0.0    6784.0   \n",
              "3      0  ...    55182.0    48983.0    50136.0    3500.0    2000.0   20000.0   \n",
              "4      2  ...    47026.0    45971.0    47573.0       0.0    6500.0    1800.0   \n",
              "\n",
              "   PAY_AMT4  PAY_AMT5  PAY_AMT6  NEXT_MONTH_DEFAULT  \n",
              "0   22000.0    3000.0    5093.0                   0  \n",
              "1       0.0    3100.0     798.0                   1  \n",
              "2     159.0     167.0     760.0                   0  \n",
              "3    2000.0    2000.0    2000.0                   0  \n",
              "4       0.0    2500.0    2000.0                   0  \n",
              "\n",
              "[5 rows x 24 columns]"
            ],
            "text/html": [
              "\n",
              "  <div id=\"df-38cb23ce-d968-40f4-a1d2-24a5a0c46e32\">\n",
              "    <div class=\"colab-df-container\">\n",
              "      <div>\n",
              "<style scoped>\n",
              "    .dataframe tbody tr th:only-of-type {\n",
              "        vertical-align: middle;\n",
              "    }\n",
              "\n",
              "    .dataframe tbody tr th {\n",
              "        vertical-align: top;\n",
              "    }\n",
              "\n",
              "    .dataframe thead th {\n",
              "        text-align: right;\n",
              "    }\n",
              "</style>\n",
              "<table border=\"1\" class=\"dataframe\">\n",
              "  <thead>\n",
              "    <tr style=\"text-align: right;\">\n",
              "      <th></th>\n",
              "      <th>LIMIT_BAL</th>\n",
              "      <th>SEX</th>\n",
              "      <th>EDUCATION</th>\n",
              "      <th>MARRIAGE</th>\n",
              "      <th>AGE</th>\n",
              "      <th>PAY_1</th>\n",
              "      <th>PAY_2</th>\n",
              "      <th>PAY_3</th>\n",
              "      <th>PAY_4</th>\n",
              "      <th>PAY_5</th>\n",
              "      <th>...</th>\n",
              "      <th>BILL_AMT4</th>\n",
              "      <th>BILL_AMT5</th>\n",
              "      <th>BILL_AMT6</th>\n",
              "      <th>PAY_AMT1</th>\n",
              "      <th>PAY_AMT2</th>\n",
              "      <th>PAY_AMT3</th>\n",
              "      <th>PAY_AMT4</th>\n",
              "      <th>PAY_AMT5</th>\n",
              "      <th>PAY_AMT6</th>\n",
              "      <th>NEXT_MONTH_DEFAULT</th>\n",
              "    </tr>\n",
              "  </thead>\n",
              "  <tbody>\n",
              "    <tr>\n",
              "      <th>0</th>\n",
              "      <td>150000.0</td>\n",
              "      <td>2</td>\n",
              "      <td>2</td>\n",
              "      <td>2</td>\n",
              "      <td>24</td>\n",
              "      <td>1</td>\n",
              "      <td>2</td>\n",
              "      <td>0</td>\n",
              "      <td>0</td>\n",
              "      <td>0</td>\n",
              "      <td>...</td>\n",
              "      <td>17853.0</td>\n",
              "      <td>34527.0</td>\n",
              "      <td>28277.0</td>\n",
              "      <td>0.0</td>\n",
              "      <td>2145.0</td>\n",
              "      <td>10000.0</td>\n",
              "      <td>22000.0</td>\n",
              "      <td>3000.0</td>\n",
              "      <td>5093.0</td>\n",
              "      <td>0</td>\n",
              "    </tr>\n",
              "    <tr>\n",
              "      <th>1</th>\n",
              "      <td>50000.0</td>\n",
              "      <td>2</td>\n",
              "      <td>3</td>\n",
              "      <td>1</td>\n",
              "      <td>46</td>\n",
              "      <td>3</td>\n",
              "      <td>3</td>\n",
              "      <td>3</td>\n",
              "      <td>3</td>\n",
              "      <td>2</td>\n",
              "      <td>...</td>\n",
              "      <td>30748.0</td>\n",
              "      <td>30162.0</td>\n",
              "      <td>30016.0</td>\n",
              "      <td>0.0</td>\n",
              "      <td>0.0</td>\n",
              "      <td>0.0</td>\n",
              "      <td>0.0</td>\n",
              "      <td>3100.0</td>\n",
              "      <td>798.0</td>\n",
              "      <td>1</td>\n",
              "    </tr>\n",
              "    <tr>\n",
              "      <th>2</th>\n",
              "      <td>150000.0</td>\n",
              "      <td>2</td>\n",
              "      <td>2</td>\n",
              "      <td>1</td>\n",
              "      <td>41</td>\n",
              "      <td>-1</td>\n",
              "      <td>-1</td>\n",
              "      <td>-1</td>\n",
              "      <td>-1</td>\n",
              "      <td>0</td>\n",
              "      <td>...</td>\n",
              "      <td>6784.0</td>\n",
              "      <td>6923.0</td>\n",
              "      <td>14116.0</td>\n",
              "      <td>0.0</td>\n",
              "      <td>0.0</td>\n",
              "      <td>6784.0</td>\n",
              "      <td>159.0</td>\n",
              "      <td>167.0</td>\n",
              "      <td>760.0</td>\n",
              "      <td>0</td>\n",
              "    </tr>\n",
              "    <tr>\n",
              "      <th>3</th>\n",
              "      <td>150000.0</td>\n",
              "      <td>2</td>\n",
              "      <td>2</td>\n",
              "      <td>2</td>\n",
              "      <td>35</td>\n",
              "      <td>0</td>\n",
              "      <td>0</td>\n",
              "      <td>0</td>\n",
              "      <td>0</td>\n",
              "      <td>0</td>\n",
              "      <td>...</td>\n",
              "      <td>55182.0</td>\n",
              "      <td>48983.0</td>\n",
              "      <td>50136.0</td>\n",
              "      <td>3500.0</td>\n",
              "      <td>2000.0</td>\n",
              "      <td>20000.0</td>\n",
              "      <td>2000.0</td>\n",
              "      <td>2000.0</td>\n",
              "      <td>2000.0</td>\n",
              "      <td>0</td>\n",
              "    </tr>\n",
              "    <tr>\n",
              "      <th>4</th>\n",
              "      <td>70000.0</td>\n",
              "      <td>2</td>\n",
              "      <td>1</td>\n",
              "      <td>1</td>\n",
              "      <td>35</td>\n",
              "      <td>1</td>\n",
              "      <td>2</td>\n",
              "      <td>2</td>\n",
              "      <td>2</td>\n",
              "      <td>2</td>\n",
              "      <td>...</td>\n",
              "      <td>47026.0</td>\n",
              "      <td>45971.0</td>\n",
              "      <td>47573.0</td>\n",
              "      <td>0.0</td>\n",
              "      <td>6500.0</td>\n",
              "      <td>1800.0</td>\n",
              "      <td>0.0</td>\n",
              "      <td>2500.0</td>\n",
              "      <td>2000.0</td>\n",
              "      <td>0</td>\n",
              "    </tr>\n",
              "  </tbody>\n",
              "</table>\n",
              "<p>5 rows × 24 columns</p>\n",
              "</div>\n",
              "      <button class=\"colab-df-convert\" onclick=\"convertToInteractive('df-38cb23ce-d968-40f4-a1d2-24a5a0c46e32')\"\n",
              "              title=\"Convert this dataframe to an interactive table.\"\n",
              "              style=\"display:none;\">\n",
              "        \n",
              "  <svg xmlns=\"http://www.w3.org/2000/svg\" height=\"24px\"viewBox=\"0 0 24 24\"\n",
              "       width=\"24px\">\n",
              "    <path d=\"M0 0h24v24H0V0z\" fill=\"none\"/>\n",
              "    <path d=\"M18.56 5.44l.94 2.06.94-2.06 2.06-.94-2.06-.94-.94-2.06-.94 2.06-2.06.94zm-11 1L8.5 8.5l.94-2.06 2.06-.94-2.06-.94L8.5 2.5l-.94 2.06-2.06.94zm10 10l.94 2.06.94-2.06 2.06-.94-2.06-.94-.94-2.06-.94 2.06-2.06.94z\"/><path d=\"M17.41 7.96l-1.37-1.37c-.4-.4-.92-.59-1.43-.59-.52 0-1.04.2-1.43.59L10.3 9.45l-7.72 7.72c-.78.78-.78 2.05 0 2.83L4 21.41c.39.39.9.59 1.41.59.51 0 1.02-.2 1.41-.59l7.78-7.78 2.81-2.81c.8-.78.8-2.07 0-2.86zM5.41 20L4 18.59l7.72-7.72 1.47 1.35L5.41 20z\"/>\n",
              "  </svg>\n",
              "      </button>\n",
              "      \n",
              "  <style>\n",
              "    .colab-df-container {\n",
              "      display:flex;\n",
              "      flex-wrap:wrap;\n",
              "      gap: 12px;\n",
              "    }\n",
              "\n",
              "    .colab-df-convert {\n",
              "      background-color: #E8F0FE;\n",
              "      border: none;\n",
              "      border-radius: 50%;\n",
              "      cursor: pointer;\n",
              "      display: none;\n",
              "      fill: #1967D2;\n",
              "      height: 32px;\n",
              "      padding: 0 0 0 0;\n",
              "      width: 32px;\n",
              "    }\n",
              "\n",
              "    .colab-df-convert:hover {\n",
              "      background-color: #E2EBFA;\n",
              "      box-shadow: 0px 1px 2px rgba(60, 64, 67, 0.3), 0px 1px 3px 1px rgba(60, 64, 67, 0.15);\n",
              "      fill: #174EA6;\n",
              "    }\n",
              "\n",
              "    [theme=dark] .colab-df-convert {\n",
              "      background-color: #3B4455;\n",
              "      fill: #D2E3FC;\n",
              "    }\n",
              "\n",
              "    [theme=dark] .colab-df-convert:hover {\n",
              "      background-color: #434B5C;\n",
              "      box-shadow: 0px 1px 3px 1px rgba(0, 0, 0, 0.15);\n",
              "      filter: drop-shadow(0px 1px 2px rgba(0, 0, 0, 0.3));\n",
              "      fill: #FFFFFF;\n",
              "    }\n",
              "  </style>\n",
              "\n",
              "      <script>\n",
              "        const buttonEl =\n",
              "          document.querySelector('#df-38cb23ce-d968-40f4-a1d2-24a5a0c46e32 button.colab-df-convert');\n",
              "        buttonEl.style.display =\n",
              "          google.colab.kernel.accessAllowed ? 'block' : 'none';\n",
              "\n",
              "        async function convertToInteractive(key) {\n",
              "          const element = document.querySelector('#df-38cb23ce-d968-40f4-a1d2-24a5a0c46e32');\n",
              "          const dataTable =\n",
              "            await google.colab.kernel.invokeFunction('convertToInteractive',\n",
              "                                                     [key], {});\n",
              "          if (!dataTable) return;\n",
              "\n",
              "          const docLinkHtml = 'Like what you see? Visit the ' +\n",
              "            '<a target=\"_blank\" href=https://colab.research.google.com/notebooks/data_table.ipynb>data table notebook</a>'\n",
              "            + ' to learn more about interactive tables.';\n",
              "          element.innerHTML = '';\n",
              "          dataTable['output_type'] = 'display_data';\n",
              "          await google.colab.output.renderOutput(dataTable, element);\n",
              "          const docLink = document.createElement('div');\n",
              "          docLink.innerHTML = docLinkHtml;\n",
              "          element.appendChild(docLink);\n",
              "        }\n",
              "      </script>\n",
              "    </div>\n",
              "  </div>\n",
              "  "
            ]
          },
          "metadata": {},
          "execution_count": 69
        }
      ]
    },
    {
      "cell_type": "code",
      "metadata": {
        "colab": {
          "base_uri": "https://localhost:8080/"
        },
        "id": "223KA07CJSCS",
        "outputId": "9e4ae05c-b29e-4bf2-f1f8-6d55e1197582"
      },
      "source": [
        "df.shape"
      ],
      "execution_count": 70,
      "outputs": [
        {
          "output_type": "execute_result",
          "data": {
            "text/plain": [
              "(10000, 24)"
            ]
          },
          "metadata": {},
          "execution_count": 70
        }
      ]
    },
    {
      "cell_type": "code",
      "metadata": {
        "colab": {
          "base_uri": "https://localhost:8080/"
        },
        "id": "aqswwt7QJSCS",
        "outputId": "e8a23031-0e64-4f40-cb49-27598d786f35"
      },
      "source": [
        "df.iloc[0]"
      ],
      "execution_count": 71,
      "outputs": [
        {
          "output_type": "execute_result",
          "data": {
            "text/plain": [
              "LIMIT_BAL             150000.0\n",
              "SEX                        2.0\n",
              "EDUCATION                  2.0\n",
              "MARRIAGE                   2.0\n",
              "AGE                       24.0\n",
              "PAY_1                      1.0\n",
              "PAY_2                      2.0\n",
              "PAY_3                      0.0\n",
              "PAY_4                      0.0\n",
              "PAY_5                      0.0\n",
              "PAY_6                      0.0\n",
              "BILL_AMT1              65542.0\n",
              "BILL_AMT2              28311.0\n",
              "BILL_AMT3              23978.0\n",
              "BILL_AMT4              17853.0\n",
              "BILL_AMT5              34527.0\n",
              "BILL_AMT6              28277.0\n",
              "PAY_AMT1                   0.0\n",
              "PAY_AMT2                2145.0\n",
              "PAY_AMT3               10000.0\n",
              "PAY_AMT4               22000.0\n",
              "PAY_AMT5                3000.0\n",
              "PAY_AMT6                5093.0\n",
              "NEXT_MONTH_DEFAULT         0.0\n",
              "Name: 0, dtype: float64"
            ]
          },
          "metadata": {},
          "execution_count": 71
        }
      ]
    },
    {
      "cell_type": "code",
      "metadata": {
        "colab": {
          "base_uri": "https://localhost:8080/"
        },
        "id": "nqWUpefuJSCS",
        "outputId": "687e862b-b55d-4b01-929a-75074b2baa26"
      },
      "source": [
        "df.info()"
      ],
      "execution_count": 72,
      "outputs": [
        {
          "output_type": "stream",
          "name": "stdout",
          "text": [
            "<class 'pandas.core.frame.DataFrame'>\n",
            "RangeIndex: 10000 entries, 0 to 9999\n",
            "Data columns (total 24 columns):\n",
            " #   Column              Non-Null Count  Dtype  \n",
            "---  ------              --------------  -----  \n",
            " 0   LIMIT_BAL           10000 non-null  float64\n",
            " 1   SEX                 10000 non-null  int64  \n",
            " 2   EDUCATION           10000 non-null  int64  \n",
            " 3   MARRIAGE            10000 non-null  int64  \n",
            " 4   AGE                 10000 non-null  int64  \n",
            " 5   PAY_1               10000 non-null  int64  \n",
            " 6   PAY_2               10000 non-null  int64  \n",
            " 7   PAY_3               10000 non-null  int64  \n",
            " 8   PAY_4               10000 non-null  int64  \n",
            " 9   PAY_5               10000 non-null  int64  \n",
            " 10  PAY_6               10000 non-null  int64  \n",
            " 11  BILL_AMT1           10000 non-null  float64\n",
            " 12  BILL_AMT2           10000 non-null  float64\n",
            " 13  BILL_AMT3           10000 non-null  float64\n",
            " 14  BILL_AMT4           10000 non-null  float64\n",
            " 15  BILL_AMT5           10000 non-null  float64\n",
            " 16  BILL_AMT6           10000 non-null  float64\n",
            " 17  PAY_AMT1            10000 non-null  float64\n",
            " 18  PAY_AMT2            10000 non-null  float64\n",
            " 19  PAY_AMT3            10000 non-null  float64\n",
            " 20  PAY_AMT4            10000 non-null  float64\n",
            " 21  PAY_AMT5            10000 non-null  float64\n",
            " 22  PAY_AMT6            10000 non-null  float64\n",
            " 23  NEXT_MONTH_DEFAULT  10000 non-null  int64  \n",
            "dtypes: float64(13), int64(11)\n",
            "memory usage: 1.8 MB\n"
          ]
        }
      ]
    },
    {
      "cell_type": "markdown",
      "metadata": {
        "id": "IvJlU8O5JSCS"
      },
      "source": [
        "### Приведение типов<a class=\"anchor\" id=\"cast\"></a>"
      ]
    },
    {
      "cell_type": "code",
      "metadata": {
        "id": "vqvFfmcXJSCT"
      },
      "source": [
        "for colname in ['SEX', 'EDUCATION', 'MARRIAGE', 'PAY_1', 'PAY_2', 'PAY_3', 'PAY_4', 'PAY_5', 'PAY_6']:\n",
        "    df[colname] = df[colname].astype(str)"
      ],
      "execution_count": 73,
      "outputs": []
    },
    {
      "cell_type": "code",
      "metadata": {
        "colab": {
          "base_uri": "https://localhost:8080/"
        },
        "id": "yd1lkuRlJSCT",
        "outputId": "e1a207cf-3f28-4a5f-d452-734473e83ba1"
      },
      "source": [
        "df.dtypes"
      ],
      "execution_count": 74,
      "outputs": [
        {
          "output_type": "execute_result",
          "data": {
            "text/plain": [
              "LIMIT_BAL             float64\n",
              "SEX                    object\n",
              "EDUCATION              object\n",
              "MARRIAGE               object\n",
              "AGE                     int64\n",
              "PAY_1                  object\n",
              "PAY_2                  object\n",
              "PAY_3                  object\n",
              "PAY_4                  object\n",
              "PAY_5                  object\n",
              "PAY_6                  object\n",
              "BILL_AMT1             float64\n",
              "BILL_AMT2             float64\n",
              "BILL_AMT3             float64\n",
              "BILL_AMT4             float64\n",
              "BILL_AMT5             float64\n",
              "BILL_AMT6             float64\n",
              "PAY_AMT1              float64\n",
              "PAY_AMT2              float64\n",
              "PAY_AMT3              float64\n",
              "PAY_AMT4              float64\n",
              "PAY_AMT5              float64\n",
              "PAY_AMT6              float64\n",
              "NEXT_MONTH_DEFAULT      int64\n",
              "dtype: object"
            ]
          },
          "metadata": {},
          "execution_count": 74
        }
      ]
    },
    {
      "cell_type": "markdown",
      "metadata": {
        "id": "5_C-1FQmJSCT"
      },
      "source": [
        "### Обзор данных<a class=\"anchor\" id=\"review\"></a>"
      ]
    },
    {
      "cell_type": "markdown",
      "metadata": {
        "id": "cIiBJc48JSCT"
      },
      "source": [
        "**Обзор целевой переменной**"
      ]
    },
    {
      "cell_type": "code",
      "metadata": {
        "colab": {
          "base_uri": "https://localhost:8080/"
        },
        "id": "EKuldV3UJSCT",
        "outputId": "22754865-cc2a-4e3b-aff2-aec9501a1dab"
      },
      "source": [
        "df['NEXT_MONTH_DEFAULT'].value_counts()"
      ],
      "execution_count": 75,
      "outputs": [
        {
          "output_type": "execute_result",
          "data": {
            "text/plain": [
              "0    7805\n",
              "1    2195\n",
              "Name: NEXT_MONTH_DEFAULT, dtype: int64"
            ]
          },
          "metadata": {},
          "execution_count": 75
        }
      ]
    },
    {
      "cell_type": "markdown",
      "metadata": {
        "id": "3CTSHyC1JSCU"
      },
      "source": [
        "**Обзор количественных признаков**"
      ]
    },
    {
      "cell_type": "code",
      "metadata": {
        "colab": {
          "base_uri": "https://localhost:8080/",
          "height": 364
        },
        "id": "GZl0WAfbJSCU",
        "outputId": "08e25ba2-af24-4c1b-978f-a73cdd5f90b5"
      },
      "source": [
        "df.describe()"
      ],
      "execution_count": 76,
      "outputs": [
        {
          "output_type": "execute_result",
          "data": {
            "text/plain": [
              "            LIMIT_BAL          AGE      BILL_AMT1      BILL_AMT2  \\\n",
              "count    10000.000000  10000.00000   10000.000000   10000.000000   \n",
              "mean    168182.000000     35.39600   51490.560500   49298.972000   \n",
              "std     130118.668771      9.19536   74906.094564   71808.952137   \n",
              "min      10000.000000     21.00000  -11545.000000  -24704.000000   \n",
              "25%      50000.000000     28.00000    3388.000000    3016.500000   \n",
              "50%     140000.000000     34.00000   22896.500000   21576.000000   \n",
              "75%     240000.000000     41.00000   67834.750000   64243.500000   \n",
              "max    1000000.000000     75.00000  964511.000000  983931.000000   \n",
              "\n",
              "          BILL_AMT3      BILL_AMT4      BILL_AMT5      BILL_AMT6  \\\n",
              "count   10000.00000   10000.000000   10000.000000   10000.000000   \n",
              "mean    47292.40850   43605.665800   40347.829700   38996.784300   \n",
              "std     69398.13263   65062.788893   61044.676044   59682.999879   \n",
              "min   -157264.00000  -65167.000000  -23003.000000 -339603.000000   \n",
              "25%      2561.75000    2400.000000    1703.250000    1300.750000   \n",
              "50%     20370.50000   19194.000000   18261.000000   17338.000000   \n",
              "75%     60783.25000   55731.250000   50491.000000   49696.000000   \n",
              "max    689643.00000  891586.000000  927171.000000  961664.000000   \n",
              "\n",
              "           PAY_AMT1      PAY_AMT2       PAY_AMT3       PAY_AMT4  \\\n",
              "count   10000.00000  1.000000e+04   10000.000000   10000.000000   \n",
              "mean     5511.82970  5.931217e+03    5385.050600    4585.585700   \n",
              "std     14748.85889  2.204220e+04   18527.041096   14066.147593   \n",
              "min         0.00000  0.000000e+00       0.000000       0.000000   \n",
              "25%      1000.00000  7.492500e+02     390.000000     277.250000   \n",
              "50%      2163.50000  2.001000e+03    1800.000000    1500.000000   \n",
              "75%      5001.00000  5.000000e+03    4651.500000    4014.250000   \n",
              "max    493358.00000  1.227082e+06  896040.000000  432130.000000   \n",
              "\n",
              "            PAY_AMT5       PAY_AMT6  NEXT_MONTH_DEFAULT  \n",
              "count   10000.000000   10000.000000        10000.000000  \n",
              "mean     4712.134300    5055.019400            0.219500  \n",
              "std     14080.847065   17359.210922            0.413929  \n",
              "min         0.000000       0.000000            0.000000  \n",
              "25%       300.000000     150.750000            0.000000  \n",
              "50%      1543.000000    1500.000000            0.000000  \n",
              "75%      4100.000000    4000.000000            0.000000  \n",
              "max    417990.000000  422000.000000            1.000000  "
            ],
            "text/html": [
              "\n",
              "  <div id=\"df-41f0b0d3-f2c2-4577-86c5-a47f8109875a\">\n",
              "    <div class=\"colab-df-container\">\n",
              "      <div>\n",
              "<style scoped>\n",
              "    .dataframe tbody tr th:only-of-type {\n",
              "        vertical-align: middle;\n",
              "    }\n",
              "\n",
              "    .dataframe tbody tr th {\n",
              "        vertical-align: top;\n",
              "    }\n",
              "\n",
              "    .dataframe thead th {\n",
              "        text-align: right;\n",
              "    }\n",
              "</style>\n",
              "<table border=\"1\" class=\"dataframe\">\n",
              "  <thead>\n",
              "    <tr style=\"text-align: right;\">\n",
              "      <th></th>\n",
              "      <th>LIMIT_BAL</th>\n",
              "      <th>AGE</th>\n",
              "      <th>BILL_AMT1</th>\n",
              "      <th>BILL_AMT2</th>\n",
              "      <th>BILL_AMT3</th>\n",
              "      <th>BILL_AMT4</th>\n",
              "      <th>BILL_AMT5</th>\n",
              "      <th>BILL_AMT6</th>\n",
              "      <th>PAY_AMT1</th>\n",
              "      <th>PAY_AMT2</th>\n",
              "      <th>PAY_AMT3</th>\n",
              "      <th>PAY_AMT4</th>\n",
              "      <th>PAY_AMT5</th>\n",
              "      <th>PAY_AMT6</th>\n",
              "      <th>NEXT_MONTH_DEFAULT</th>\n",
              "    </tr>\n",
              "  </thead>\n",
              "  <tbody>\n",
              "    <tr>\n",
              "      <th>count</th>\n",
              "      <td>10000.000000</td>\n",
              "      <td>10000.00000</td>\n",
              "      <td>10000.000000</td>\n",
              "      <td>10000.000000</td>\n",
              "      <td>10000.00000</td>\n",
              "      <td>10000.000000</td>\n",
              "      <td>10000.000000</td>\n",
              "      <td>10000.000000</td>\n",
              "      <td>10000.00000</td>\n",
              "      <td>1.000000e+04</td>\n",
              "      <td>10000.000000</td>\n",
              "      <td>10000.000000</td>\n",
              "      <td>10000.000000</td>\n",
              "      <td>10000.000000</td>\n",
              "      <td>10000.000000</td>\n",
              "    </tr>\n",
              "    <tr>\n",
              "      <th>mean</th>\n",
              "      <td>168182.000000</td>\n",
              "      <td>35.39600</td>\n",
              "      <td>51490.560500</td>\n",
              "      <td>49298.972000</td>\n",
              "      <td>47292.40850</td>\n",
              "      <td>43605.665800</td>\n",
              "      <td>40347.829700</td>\n",
              "      <td>38996.784300</td>\n",
              "      <td>5511.82970</td>\n",
              "      <td>5.931217e+03</td>\n",
              "      <td>5385.050600</td>\n",
              "      <td>4585.585700</td>\n",
              "      <td>4712.134300</td>\n",
              "      <td>5055.019400</td>\n",
              "      <td>0.219500</td>\n",
              "    </tr>\n",
              "    <tr>\n",
              "      <th>std</th>\n",
              "      <td>130118.668771</td>\n",
              "      <td>9.19536</td>\n",
              "      <td>74906.094564</td>\n",
              "      <td>71808.952137</td>\n",
              "      <td>69398.13263</td>\n",
              "      <td>65062.788893</td>\n",
              "      <td>61044.676044</td>\n",
              "      <td>59682.999879</td>\n",
              "      <td>14748.85889</td>\n",
              "      <td>2.204220e+04</td>\n",
              "      <td>18527.041096</td>\n",
              "      <td>14066.147593</td>\n",
              "      <td>14080.847065</td>\n",
              "      <td>17359.210922</td>\n",
              "      <td>0.413929</td>\n",
              "    </tr>\n",
              "    <tr>\n",
              "      <th>min</th>\n",
              "      <td>10000.000000</td>\n",
              "      <td>21.00000</td>\n",
              "      <td>-11545.000000</td>\n",
              "      <td>-24704.000000</td>\n",
              "      <td>-157264.00000</td>\n",
              "      <td>-65167.000000</td>\n",
              "      <td>-23003.000000</td>\n",
              "      <td>-339603.000000</td>\n",
              "      <td>0.00000</td>\n",
              "      <td>0.000000e+00</td>\n",
              "      <td>0.000000</td>\n",
              "      <td>0.000000</td>\n",
              "      <td>0.000000</td>\n",
              "      <td>0.000000</td>\n",
              "      <td>0.000000</td>\n",
              "    </tr>\n",
              "    <tr>\n",
              "      <th>25%</th>\n",
              "      <td>50000.000000</td>\n",
              "      <td>28.00000</td>\n",
              "      <td>3388.000000</td>\n",
              "      <td>3016.500000</td>\n",
              "      <td>2561.75000</td>\n",
              "      <td>2400.000000</td>\n",
              "      <td>1703.250000</td>\n",
              "      <td>1300.750000</td>\n",
              "      <td>1000.00000</td>\n",
              "      <td>7.492500e+02</td>\n",
              "      <td>390.000000</td>\n",
              "      <td>277.250000</td>\n",
              "      <td>300.000000</td>\n",
              "      <td>150.750000</td>\n",
              "      <td>0.000000</td>\n",
              "    </tr>\n",
              "    <tr>\n",
              "      <th>50%</th>\n",
              "      <td>140000.000000</td>\n",
              "      <td>34.00000</td>\n",
              "      <td>22896.500000</td>\n",
              "      <td>21576.000000</td>\n",
              "      <td>20370.50000</td>\n",
              "      <td>19194.000000</td>\n",
              "      <td>18261.000000</td>\n",
              "      <td>17338.000000</td>\n",
              "      <td>2163.50000</td>\n",
              "      <td>2.001000e+03</td>\n",
              "      <td>1800.000000</td>\n",
              "      <td>1500.000000</td>\n",
              "      <td>1543.000000</td>\n",
              "      <td>1500.000000</td>\n",
              "      <td>0.000000</td>\n",
              "    </tr>\n",
              "    <tr>\n",
              "      <th>75%</th>\n",
              "      <td>240000.000000</td>\n",
              "      <td>41.00000</td>\n",
              "      <td>67834.750000</td>\n",
              "      <td>64243.500000</td>\n",
              "      <td>60783.25000</td>\n",
              "      <td>55731.250000</td>\n",
              "      <td>50491.000000</td>\n",
              "      <td>49696.000000</td>\n",
              "      <td>5001.00000</td>\n",
              "      <td>5.000000e+03</td>\n",
              "      <td>4651.500000</td>\n",
              "      <td>4014.250000</td>\n",
              "      <td>4100.000000</td>\n",
              "      <td>4000.000000</td>\n",
              "      <td>0.000000</td>\n",
              "    </tr>\n",
              "    <tr>\n",
              "      <th>max</th>\n",
              "      <td>1000000.000000</td>\n",
              "      <td>75.00000</td>\n",
              "      <td>964511.000000</td>\n",
              "      <td>983931.000000</td>\n",
              "      <td>689643.00000</td>\n",
              "      <td>891586.000000</td>\n",
              "      <td>927171.000000</td>\n",
              "      <td>961664.000000</td>\n",
              "      <td>493358.00000</td>\n",
              "      <td>1.227082e+06</td>\n",
              "      <td>896040.000000</td>\n",
              "      <td>432130.000000</td>\n",
              "      <td>417990.000000</td>\n",
              "      <td>422000.000000</td>\n",
              "      <td>1.000000</td>\n",
              "    </tr>\n",
              "  </tbody>\n",
              "</table>\n",
              "</div>\n",
              "      <button class=\"colab-df-convert\" onclick=\"convertToInteractive('df-41f0b0d3-f2c2-4577-86c5-a47f8109875a')\"\n",
              "              title=\"Convert this dataframe to an interactive table.\"\n",
              "              style=\"display:none;\">\n",
              "        \n",
              "  <svg xmlns=\"http://www.w3.org/2000/svg\" height=\"24px\"viewBox=\"0 0 24 24\"\n",
              "       width=\"24px\">\n",
              "    <path d=\"M0 0h24v24H0V0z\" fill=\"none\"/>\n",
              "    <path d=\"M18.56 5.44l.94 2.06.94-2.06 2.06-.94-2.06-.94-.94-2.06-.94 2.06-2.06.94zm-11 1L8.5 8.5l.94-2.06 2.06-.94-2.06-.94L8.5 2.5l-.94 2.06-2.06.94zm10 10l.94 2.06.94-2.06 2.06-.94-2.06-.94-.94-2.06-.94 2.06-2.06.94z\"/><path d=\"M17.41 7.96l-1.37-1.37c-.4-.4-.92-.59-1.43-.59-.52 0-1.04.2-1.43.59L10.3 9.45l-7.72 7.72c-.78.78-.78 2.05 0 2.83L4 21.41c.39.39.9.59 1.41.59.51 0 1.02-.2 1.41-.59l7.78-7.78 2.81-2.81c.8-.78.8-2.07 0-2.86zM5.41 20L4 18.59l7.72-7.72 1.47 1.35L5.41 20z\"/>\n",
              "  </svg>\n",
              "      </button>\n",
              "      \n",
              "  <style>\n",
              "    .colab-df-container {\n",
              "      display:flex;\n",
              "      flex-wrap:wrap;\n",
              "      gap: 12px;\n",
              "    }\n",
              "\n",
              "    .colab-df-convert {\n",
              "      background-color: #E8F0FE;\n",
              "      border: none;\n",
              "      border-radius: 50%;\n",
              "      cursor: pointer;\n",
              "      display: none;\n",
              "      fill: #1967D2;\n",
              "      height: 32px;\n",
              "      padding: 0 0 0 0;\n",
              "      width: 32px;\n",
              "    }\n",
              "\n",
              "    .colab-df-convert:hover {\n",
              "      background-color: #E2EBFA;\n",
              "      box-shadow: 0px 1px 2px rgba(60, 64, 67, 0.3), 0px 1px 3px 1px rgba(60, 64, 67, 0.15);\n",
              "      fill: #174EA6;\n",
              "    }\n",
              "\n",
              "    [theme=dark] .colab-df-convert {\n",
              "      background-color: #3B4455;\n",
              "      fill: #D2E3FC;\n",
              "    }\n",
              "\n",
              "    [theme=dark] .colab-df-convert:hover {\n",
              "      background-color: #434B5C;\n",
              "      box-shadow: 0px 1px 3px 1px rgba(0, 0, 0, 0.15);\n",
              "      filter: drop-shadow(0px 1px 2px rgba(0, 0, 0, 0.3));\n",
              "      fill: #FFFFFF;\n",
              "    }\n",
              "  </style>\n",
              "\n",
              "      <script>\n",
              "        const buttonEl =\n",
              "          document.querySelector('#df-41f0b0d3-f2c2-4577-86c5-a47f8109875a button.colab-df-convert');\n",
              "        buttonEl.style.display =\n",
              "          google.colab.kernel.accessAllowed ? 'block' : 'none';\n",
              "\n",
              "        async function convertToInteractive(key) {\n",
              "          const element = document.querySelector('#df-41f0b0d3-f2c2-4577-86c5-a47f8109875a');\n",
              "          const dataTable =\n",
              "            await google.colab.kernel.invokeFunction('convertToInteractive',\n",
              "                                                     [key], {});\n",
              "          if (!dataTable) return;\n",
              "\n",
              "          const docLinkHtml = 'Like what you see? Visit the ' +\n",
              "            '<a target=\"_blank\" href=https://colab.research.google.com/notebooks/data_table.ipynb>data table notebook</a>'\n",
              "            + ' to learn more about interactive tables.';\n",
              "          element.innerHTML = '';\n",
              "          dataTable['output_type'] = 'display_data';\n",
              "          await google.colab.output.renderOutput(dataTable, element);\n",
              "          const docLink = document.createElement('div');\n",
              "          docLink.innerHTML = docLinkHtml;\n",
              "          element.appendChild(docLink);\n",
              "        }\n",
              "      </script>\n",
              "    </div>\n",
              "  </div>\n",
              "  "
            ]
          },
          "metadata": {},
          "execution_count": 76
        }
      ]
    },
    {
      "cell_type": "markdown",
      "metadata": {
        "id": "EPEPB8RnJSCU"
      },
      "source": [
        "**Обзор номинативных признаков**"
      ]
    },
    {
      "cell_type": "code",
      "metadata": {
        "scrolled": false,
        "colab": {
          "base_uri": "https://localhost:8080/"
        },
        "id": "mMO_dKliJSCU",
        "outputId": "ce078f88-4b64-4e51-f6e8-2e17d2cd5f6d"
      },
      "source": [
        "for cat_colname in df.select_dtypes(include='object').columns:\n",
        "    print(str(cat_colname) + '\\n\\n' + str(df[cat_colname].value_counts()) + '\\n' + '*' * 100 + '\\n')"
      ],
      "execution_count": 78,
      "outputs": [
        {
          "output_type": "stream",
          "name": "stdout",
          "text": [
            "SEX\n",
            "\n",
            "2    6068\n",
            "1    3932\n",
            "Name: SEX, dtype: int64\n",
            "****************************************************************************************************\n",
            "\n",
            "EDUCATION\n",
            "\n",
            "2    4678\n",
            "1    3496\n",
            "3    1674\n",
            "5      90\n",
            "4      42\n",
            "6      18\n",
            "0       2\n",
            "Name: EDUCATION, dtype: int64\n",
            "****************************************************************************************************\n",
            "\n",
            "MARRIAGE\n",
            "\n",
            "2    5332\n",
            "1    4547\n",
            "3     108\n",
            "0      13\n",
            "Name: MARRIAGE, dtype: int64\n",
            "****************************************************************************************************\n",
            "\n",
            "PAY_1\n",
            "\n",
            "0     4895\n",
            "-1    2852\n",
            "1     1217\n",
            "2      881\n",
            "3      155\n",
            "Name: PAY_1, dtype: int64\n",
            "****************************************************************************************************\n",
            "\n",
            "PAY_2\n",
            "\n",
            "0     5178\n",
            "-1    3318\n",
            "2     1318\n",
            "3      175\n",
            "1       11\n",
            "Name: PAY_2, dtype: int64\n",
            "****************************************************************************************************\n",
            "\n",
            "PAY_3\n",
            "\n",
            "0     5200\n",
            "-1    3379\n",
            "2     1288\n",
            "3      131\n",
            "1        2\n",
            "Name: PAY_3, dtype: int64\n",
            "****************************************************************************************************\n",
            "\n",
            "PAY_4\n",
            "\n",
            "0     5459\n",
            "-1    3360\n",
            "2     1064\n",
            "3      117\n",
            "Name: PAY_4, dtype: int64\n",
            "****************************************************************************************************\n",
            "\n",
            "PAY_5\n",
            "\n",
            "0     5601\n",
            "-1    3398\n",
            "2      894\n",
            "3      107\n",
            "Name: PAY_5, dtype: int64\n",
            "****************************************************************************************************\n",
            "\n",
            "PAY_6\n",
            "\n",
            "0     5394\n",
            "-1    3585\n",
            "2      927\n",
            "3       94\n",
            "Name: PAY_6, dtype: int64\n",
            "****************************************************************************************************\n",
            "\n"
          ]
        }
      ]
    },
    {
      "cell_type": "code",
      "metadata": {
        "colab": {
          "base_uri": "https://localhost:8080/",
          "height": 488
        },
        "id": "3NXTyv1JU-7t",
        "outputId": "79392471-75de-42c7-c437-bc9fff96e790"
      },
      "source": [
        "df['PAY_6'].fillna(0)\n",
        "df.fillna(method=\"ffill\")"
      ],
      "execution_count": 44,
      "outputs": [
        {
          "output_type": "execute_result",
          "data": {
            "text/plain": [
              "      LIMIT_BAL SEX EDUCATION MARRIAGE  AGE PAY_1 PAY_2 PAY_3 PAY_4 PAY_5  \\\n",
              "0      150000.0   2         2        2   24     1     2     0     0     0   \n",
              "1       50000.0   2         3        1   46     3     3     3     3     2   \n",
              "2      150000.0   2         2        1   41    -1    -1    -1    -1     0   \n",
              "3      150000.0   2         2        2   35     0     0     0     0     0   \n",
              "4       70000.0   2         1        1   35     1     2     2     2     2   \n",
              "...         ...  ..       ...      ...  ...   ...   ...   ...   ...   ...   \n",
              "9995   120000.0   1         2        2   38     0     0     0     0     0   \n",
              "9996   390000.0   2         3        2   45     0    -1    -1    -1    -1   \n",
              "9997   500000.0   1         1        2   38    -1    -1    -1    -1    -1   \n",
              "9998   310000.0   2         2        1   35     2     0     0     0     0   \n",
              "9999    80000.0   2         1        2   27     0     0     0     0     0   \n",
              "\n",
              "      ... BILL_AMT4  BILL_AMT5  BILL_AMT6  PAY_AMT1  PAY_AMT2  PAY_AMT3  \\\n",
              "0     ...   17853.0    34527.0    28277.0       0.0    2145.0   10000.0   \n",
              "1     ...   30748.0    30162.0    30016.0       0.0       0.0       0.0   \n",
              "2     ...    6784.0     6923.0    14116.0       0.0       0.0    6784.0   \n",
              "3     ...   55182.0    48983.0    50136.0    3500.0    2000.0   20000.0   \n",
              "4     ...   47026.0    45971.0    47573.0       0.0    6500.0    1800.0   \n",
              "...   ...       ...        ...        ...       ...       ...       ...   \n",
              "9995  ...   84840.0    86954.0    83448.0    5000.0    5000.0    3000.0   \n",
              "9996  ...   -3261.0    36635.0    38396.0    2230.0     609.0       0.0   \n",
              "9997  ...    8086.0        0.0        0.0       0.0       0.0    8086.0   \n",
              "9998  ...  258610.0   246491.0   198889.0   13019.0   11128.0    8407.0   \n",
              "9999  ...   40274.0    41598.0    42926.0    2000.0    1800.0    2000.0   \n",
              "\n",
              "      PAY_AMT4  PAY_AMT5  PAY_AMT6  NEXT_MONTH_DEFAULT  \n",
              "0      22000.0    3000.0    5093.0                   0  \n",
              "1          0.0    3100.0     798.0                   1  \n",
              "2        159.0     167.0     760.0                   0  \n",
              "3       2000.0    2000.0    2000.0                   0  \n",
              "4          0.0    2500.0    2000.0                   0  \n",
              "...        ...       ...       ...                 ...  \n",
              "9995    3500.0    3000.0   82000.0                   1  \n",
              "9996   40396.0    3000.0  105100.0                   0  \n",
              "9997       0.0       0.0       0.0                   0  \n",
              "9998    8599.0    6833.0    5987.0                   1  \n",
              "9999    2000.0    2000.0    3000.0                   0  \n",
              "\n",
              "[10000 rows x 24 columns]"
            ],
            "text/html": [
              "\n",
              "  <div id=\"df-316787fc-008e-4133-8c4f-de14680447d1\">\n",
              "    <div class=\"colab-df-container\">\n",
              "      <div>\n",
              "<style scoped>\n",
              "    .dataframe tbody tr th:only-of-type {\n",
              "        vertical-align: middle;\n",
              "    }\n",
              "\n",
              "    .dataframe tbody tr th {\n",
              "        vertical-align: top;\n",
              "    }\n",
              "\n",
              "    .dataframe thead th {\n",
              "        text-align: right;\n",
              "    }\n",
              "</style>\n",
              "<table border=\"1\" class=\"dataframe\">\n",
              "  <thead>\n",
              "    <tr style=\"text-align: right;\">\n",
              "      <th></th>\n",
              "      <th>LIMIT_BAL</th>\n",
              "      <th>SEX</th>\n",
              "      <th>EDUCATION</th>\n",
              "      <th>MARRIAGE</th>\n",
              "      <th>AGE</th>\n",
              "      <th>PAY_1</th>\n",
              "      <th>PAY_2</th>\n",
              "      <th>PAY_3</th>\n",
              "      <th>PAY_4</th>\n",
              "      <th>PAY_5</th>\n",
              "      <th>...</th>\n",
              "      <th>BILL_AMT4</th>\n",
              "      <th>BILL_AMT5</th>\n",
              "      <th>BILL_AMT6</th>\n",
              "      <th>PAY_AMT1</th>\n",
              "      <th>PAY_AMT2</th>\n",
              "      <th>PAY_AMT3</th>\n",
              "      <th>PAY_AMT4</th>\n",
              "      <th>PAY_AMT5</th>\n",
              "      <th>PAY_AMT6</th>\n",
              "      <th>NEXT_MONTH_DEFAULT</th>\n",
              "    </tr>\n",
              "  </thead>\n",
              "  <tbody>\n",
              "    <tr>\n",
              "      <th>0</th>\n",
              "      <td>150000.0</td>\n",
              "      <td>2</td>\n",
              "      <td>2</td>\n",
              "      <td>2</td>\n",
              "      <td>24</td>\n",
              "      <td>1</td>\n",
              "      <td>2</td>\n",
              "      <td>0</td>\n",
              "      <td>0</td>\n",
              "      <td>0</td>\n",
              "      <td>...</td>\n",
              "      <td>17853.0</td>\n",
              "      <td>34527.0</td>\n",
              "      <td>28277.0</td>\n",
              "      <td>0.0</td>\n",
              "      <td>2145.0</td>\n",
              "      <td>10000.0</td>\n",
              "      <td>22000.0</td>\n",
              "      <td>3000.0</td>\n",
              "      <td>5093.0</td>\n",
              "      <td>0</td>\n",
              "    </tr>\n",
              "    <tr>\n",
              "      <th>1</th>\n",
              "      <td>50000.0</td>\n",
              "      <td>2</td>\n",
              "      <td>3</td>\n",
              "      <td>1</td>\n",
              "      <td>46</td>\n",
              "      <td>3</td>\n",
              "      <td>3</td>\n",
              "      <td>3</td>\n",
              "      <td>3</td>\n",
              "      <td>2</td>\n",
              "      <td>...</td>\n",
              "      <td>30748.0</td>\n",
              "      <td>30162.0</td>\n",
              "      <td>30016.0</td>\n",
              "      <td>0.0</td>\n",
              "      <td>0.0</td>\n",
              "      <td>0.0</td>\n",
              "      <td>0.0</td>\n",
              "      <td>3100.0</td>\n",
              "      <td>798.0</td>\n",
              "      <td>1</td>\n",
              "    </tr>\n",
              "    <tr>\n",
              "      <th>2</th>\n",
              "      <td>150000.0</td>\n",
              "      <td>2</td>\n",
              "      <td>2</td>\n",
              "      <td>1</td>\n",
              "      <td>41</td>\n",
              "      <td>-1</td>\n",
              "      <td>-1</td>\n",
              "      <td>-1</td>\n",
              "      <td>-1</td>\n",
              "      <td>0</td>\n",
              "      <td>...</td>\n",
              "      <td>6784.0</td>\n",
              "      <td>6923.0</td>\n",
              "      <td>14116.0</td>\n",
              "      <td>0.0</td>\n",
              "      <td>0.0</td>\n",
              "      <td>6784.0</td>\n",
              "      <td>159.0</td>\n",
              "      <td>167.0</td>\n",
              "      <td>760.0</td>\n",
              "      <td>0</td>\n",
              "    </tr>\n",
              "    <tr>\n",
              "      <th>3</th>\n",
              "      <td>150000.0</td>\n",
              "      <td>2</td>\n",
              "      <td>2</td>\n",
              "      <td>2</td>\n",
              "      <td>35</td>\n",
              "      <td>0</td>\n",
              "      <td>0</td>\n",
              "      <td>0</td>\n",
              "      <td>0</td>\n",
              "      <td>0</td>\n",
              "      <td>...</td>\n",
              "      <td>55182.0</td>\n",
              "      <td>48983.0</td>\n",
              "      <td>50136.0</td>\n",
              "      <td>3500.0</td>\n",
              "      <td>2000.0</td>\n",
              "      <td>20000.0</td>\n",
              "      <td>2000.0</td>\n",
              "      <td>2000.0</td>\n",
              "      <td>2000.0</td>\n",
              "      <td>0</td>\n",
              "    </tr>\n",
              "    <tr>\n",
              "      <th>4</th>\n",
              "      <td>70000.0</td>\n",
              "      <td>2</td>\n",
              "      <td>1</td>\n",
              "      <td>1</td>\n",
              "      <td>35</td>\n",
              "      <td>1</td>\n",
              "      <td>2</td>\n",
              "      <td>2</td>\n",
              "      <td>2</td>\n",
              "      <td>2</td>\n",
              "      <td>...</td>\n",
              "      <td>47026.0</td>\n",
              "      <td>45971.0</td>\n",
              "      <td>47573.0</td>\n",
              "      <td>0.0</td>\n",
              "      <td>6500.0</td>\n",
              "      <td>1800.0</td>\n",
              "      <td>0.0</td>\n",
              "      <td>2500.0</td>\n",
              "      <td>2000.0</td>\n",
              "      <td>0</td>\n",
              "    </tr>\n",
              "    <tr>\n",
              "      <th>...</th>\n",
              "      <td>...</td>\n",
              "      <td>...</td>\n",
              "      <td>...</td>\n",
              "      <td>...</td>\n",
              "      <td>...</td>\n",
              "      <td>...</td>\n",
              "      <td>...</td>\n",
              "      <td>...</td>\n",
              "      <td>...</td>\n",
              "      <td>...</td>\n",
              "      <td>...</td>\n",
              "      <td>...</td>\n",
              "      <td>...</td>\n",
              "      <td>...</td>\n",
              "      <td>...</td>\n",
              "      <td>...</td>\n",
              "      <td>...</td>\n",
              "      <td>...</td>\n",
              "      <td>...</td>\n",
              "      <td>...</td>\n",
              "      <td>...</td>\n",
              "    </tr>\n",
              "    <tr>\n",
              "      <th>9995</th>\n",
              "      <td>120000.0</td>\n",
              "      <td>1</td>\n",
              "      <td>2</td>\n",
              "      <td>2</td>\n",
              "      <td>38</td>\n",
              "      <td>0</td>\n",
              "      <td>0</td>\n",
              "      <td>0</td>\n",
              "      <td>0</td>\n",
              "      <td>0</td>\n",
              "      <td>...</td>\n",
              "      <td>84840.0</td>\n",
              "      <td>86954.0</td>\n",
              "      <td>83448.0</td>\n",
              "      <td>5000.0</td>\n",
              "      <td>5000.0</td>\n",
              "      <td>3000.0</td>\n",
              "      <td>3500.0</td>\n",
              "      <td>3000.0</td>\n",
              "      <td>82000.0</td>\n",
              "      <td>1</td>\n",
              "    </tr>\n",
              "    <tr>\n",
              "      <th>9996</th>\n",
              "      <td>390000.0</td>\n",
              "      <td>2</td>\n",
              "      <td>3</td>\n",
              "      <td>2</td>\n",
              "      <td>45</td>\n",
              "      <td>0</td>\n",
              "      <td>-1</td>\n",
              "      <td>-1</td>\n",
              "      <td>-1</td>\n",
              "      <td>-1</td>\n",
              "      <td>...</td>\n",
              "      <td>-3261.0</td>\n",
              "      <td>36635.0</td>\n",
              "      <td>38396.0</td>\n",
              "      <td>2230.0</td>\n",
              "      <td>609.0</td>\n",
              "      <td>0.0</td>\n",
              "      <td>40396.0</td>\n",
              "      <td>3000.0</td>\n",
              "      <td>105100.0</td>\n",
              "      <td>0</td>\n",
              "    </tr>\n",
              "    <tr>\n",
              "      <th>9997</th>\n",
              "      <td>500000.0</td>\n",
              "      <td>1</td>\n",
              "      <td>1</td>\n",
              "      <td>2</td>\n",
              "      <td>38</td>\n",
              "      <td>-1</td>\n",
              "      <td>-1</td>\n",
              "      <td>-1</td>\n",
              "      <td>-1</td>\n",
              "      <td>-1</td>\n",
              "      <td>...</td>\n",
              "      <td>8086.0</td>\n",
              "      <td>0.0</td>\n",
              "      <td>0.0</td>\n",
              "      <td>0.0</td>\n",
              "      <td>0.0</td>\n",
              "      <td>8086.0</td>\n",
              "      <td>0.0</td>\n",
              "      <td>0.0</td>\n",
              "      <td>0.0</td>\n",
              "      <td>0</td>\n",
              "    </tr>\n",
              "    <tr>\n",
              "      <th>9998</th>\n",
              "      <td>310000.0</td>\n",
              "      <td>2</td>\n",
              "      <td>2</td>\n",
              "      <td>1</td>\n",
              "      <td>35</td>\n",
              "      <td>2</td>\n",
              "      <td>0</td>\n",
              "      <td>0</td>\n",
              "      <td>0</td>\n",
              "      <td>0</td>\n",
              "      <td>...</td>\n",
              "      <td>258610.0</td>\n",
              "      <td>246491.0</td>\n",
              "      <td>198889.0</td>\n",
              "      <td>13019.0</td>\n",
              "      <td>11128.0</td>\n",
              "      <td>8407.0</td>\n",
              "      <td>8599.0</td>\n",
              "      <td>6833.0</td>\n",
              "      <td>5987.0</td>\n",
              "      <td>1</td>\n",
              "    </tr>\n",
              "    <tr>\n",
              "      <th>9999</th>\n",
              "      <td>80000.0</td>\n",
              "      <td>2</td>\n",
              "      <td>1</td>\n",
              "      <td>2</td>\n",
              "      <td>27</td>\n",
              "      <td>0</td>\n",
              "      <td>0</td>\n",
              "      <td>0</td>\n",
              "      <td>0</td>\n",
              "      <td>0</td>\n",
              "      <td>...</td>\n",
              "      <td>40274.0</td>\n",
              "      <td>41598.0</td>\n",
              "      <td>42926.0</td>\n",
              "      <td>2000.0</td>\n",
              "      <td>1800.0</td>\n",
              "      <td>2000.0</td>\n",
              "      <td>2000.0</td>\n",
              "      <td>2000.0</td>\n",
              "      <td>3000.0</td>\n",
              "      <td>0</td>\n",
              "    </tr>\n",
              "  </tbody>\n",
              "</table>\n",
              "<p>10000 rows × 24 columns</p>\n",
              "</div>\n",
              "      <button class=\"colab-df-convert\" onclick=\"convertToInteractive('df-316787fc-008e-4133-8c4f-de14680447d1')\"\n",
              "              title=\"Convert this dataframe to an interactive table.\"\n",
              "              style=\"display:none;\">\n",
              "        \n",
              "  <svg xmlns=\"http://www.w3.org/2000/svg\" height=\"24px\"viewBox=\"0 0 24 24\"\n",
              "       width=\"24px\">\n",
              "    <path d=\"M0 0h24v24H0V0z\" fill=\"none\"/>\n",
              "    <path d=\"M18.56 5.44l.94 2.06.94-2.06 2.06-.94-2.06-.94-.94-2.06-.94 2.06-2.06.94zm-11 1L8.5 8.5l.94-2.06 2.06-.94-2.06-.94L8.5 2.5l-.94 2.06-2.06.94zm10 10l.94 2.06.94-2.06 2.06-.94-2.06-.94-.94-2.06-.94 2.06-2.06.94z\"/><path d=\"M17.41 7.96l-1.37-1.37c-.4-.4-.92-.59-1.43-.59-.52 0-1.04.2-1.43.59L10.3 9.45l-7.72 7.72c-.78.78-.78 2.05 0 2.83L4 21.41c.39.39.9.59 1.41.59.51 0 1.02-.2 1.41-.59l7.78-7.78 2.81-2.81c.8-.78.8-2.07 0-2.86zM5.41 20L4 18.59l7.72-7.72 1.47 1.35L5.41 20z\"/>\n",
              "  </svg>\n",
              "      </button>\n",
              "      \n",
              "  <style>\n",
              "    .colab-df-container {\n",
              "      display:flex;\n",
              "      flex-wrap:wrap;\n",
              "      gap: 12px;\n",
              "    }\n",
              "\n",
              "    .colab-df-convert {\n",
              "      background-color: #E8F0FE;\n",
              "      border: none;\n",
              "      border-radius: 50%;\n",
              "      cursor: pointer;\n",
              "      display: none;\n",
              "      fill: #1967D2;\n",
              "      height: 32px;\n",
              "      padding: 0 0 0 0;\n",
              "      width: 32px;\n",
              "    }\n",
              "\n",
              "    .colab-df-convert:hover {\n",
              "      background-color: #E2EBFA;\n",
              "      box-shadow: 0px 1px 2px rgba(60, 64, 67, 0.3), 0px 1px 3px 1px rgba(60, 64, 67, 0.15);\n",
              "      fill: #174EA6;\n",
              "    }\n",
              "\n",
              "    [theme=dark] .colab-df-convert {\n",
              "      background-color: #3B4455;\n",
              "      fill: #D2E3FC;\n",
              "    }\n",
              "\n",
              "    [theme=dark] .colab-df-convert:hover {\n",
              "      background-color: #434B5C;\n",
              "      box-shadow: 0px 1px 3px 1px rgba(0, 0, 0, 0.15);\n",
              "      filter: drop-shadow(0px 1px 2px rgba(0, 0, 0, 0.3));\n",
              "      fill: #FFFFFF;\n",
              "    }\n",
              "  </style>\n",
              "\n",
              "      <script>\n",
              "        const buttonEl =\n",
              "          document.querySelector('#df-316787fc-008e-4133-8c4f-de14680447d1 button.colab-df-convert');\n",
              "        buttonEl.style.display =\n",
              "          google.colab.kernel.accessAllowed ? 'block' : 'none';\n",
              "\n",
              "        async function convertToInteractive(key) {\n",
              "          const element = document.querySelector('#df-316787fc-008e-4133-8c4f-de14680447d1');\n",
              "          const dataTable =\n",
              "            await google.colab.kernel.invokeFunction('convertToInteractive',\n",
              "                                                     [key], {});\n",
              "          if (!dataTable) return;\n",
              "\n",
              "          const docLinkHtml = 'Like what you see? Visit the ' +\n",
              "            '<a target=\"_blank\" href=https://colab.research.google.com/notebooks/data_table.ipynb>data table notebook</a>'\n",
              "            + ' to learn more about interactive tables.';\n",
              "          element.innerHTML = '';\n",
              "          dataTable['output_type'] = 'display_data';\n",
              "          await google.colab.output.renderOutput(dataTable, element);\n",
              "          const docLink = document.createElement('div');\n",
              "          docLink.innerHTML = docLinkHtml;\n",
              "          element.appendChild(docLink);\n",
              "        }\n",
              "      </script>\n",
              "    </div>\n",
              "  </div>\n",
              "  "
            ]
          },
          "metadata": {},
          "execution_count": 44
        }
      ]
    },
    {
      "cell_type": "markdown",
      "metadata": {
        "id": "mvPQLLW7JSCV"
      },
      "source": [
        "### Обработка пропусков<a class=\"anchor\" id=\"gaps\"></a>"
      ]
    },
    {
      "cell_type": "code",
      "metadata": {
        "colab": {
          "base_uri": "https://localhost:8080/"
        },
        "id": "V4IgtHGnJSCV",
        "outputId": "14da8b38-46ee-4f17-819d-3fa6d4507f6d"
      },
      "source": [
        "len(df) - df.count()"
      ],
      "execution_count": 79,
      "outputs": [
        {
          "output_type": "execute_result",
          "data": {
            "text/plain": [
              "LIMIT_BAL             0\n",
              "SEX                   0\n",
              "EDUCATION             0\n",
              "MARRIAGE              0\n",
              "AGE                   0\n",
              "PAY_1                 0\n",
              "PAY_2                 0\n",
              "PAY_3                 0\n",
              "PAY_4                 0\n",
              "PAY_5                 0\n",
              "PAY_6                 0\n",
              "BILL_AMT1             0\n",
              "BILL_AMT2             0\n",
              "BILL_AMT3             0\n",
              "BILL_AMT4             0\n",
              "BILL_AMT5             0\n",
              "BILL_AMT6             0\n",
              "PAY_AMT1              0\n",
              "PAY_AMT2              0\n",
              "PAY_AMT3              0\n",
              "PAY_AMT4              0\n",
              "PAY_AMT5              0\n",
              "PAY_AMT6              0\n",
              "NEXT_MONTH_DEFAULT    0\n",
              "dtype: int64"
            ]
          },
          "metadata": {},
          "execution_count": 79
        }
      ]
    },
    {
      "cell_type": "code",
      "metadata": {
        "id": "Rxza_1L3pTyx",
        "colab": {
          "base_uri": "https://localhost:8080/",
          "height": 488
        },
        "outputId": "1b79fd79-1d56-4d37-831d-8d17c7742e2d"
      },
      "source": [
        "df.fillna(0)\n",
        "df.fillna(method=\"ffill\")"
      ],
      "execution_count": 80,
      "outputs": [
        {
          "output_type": "execute_result",
          "data": {
            "text/plain": [
              "      LIMIT_BAL SEX EDUCATION MARRIAGE  AGE PAY_1 PAY_2 PAY_3 PAY_4 PAY_5  \\\n",
              "0      150000.0   2         2        2   24     1     2     0     0     0   \n",
              "1       50000.0   2         3        1   46     3     3     3     3     2   \n",
              "2      150000.0   2         2        1   41    -1    -1    -1    -1     0   \n",
              "3      150000.0   2         2        2   35     0     0     0     0     0   \n",
              "4       70000.0   2         1        1   35     1     2     2     2     2   \n",
              "...         ...  ..       ...      ...  ...   ...   ...   ...   ...   ...   \n",
              "9995   120000.0   1         2        2   38     0     0     0     0     0   \n",
              "9996   390000.0   2         3        2   45     0    -1    -1    -1    -1   \n",
              "9997   500000.0   1         1        2   38    -1    -1    -1    -1    -1   \n",
              "9998   310000.0   2         2        1   35     2     0     0     0     0   \n",
              "9999    80000.0   2         1        2   27     0     0     0     0     0   \n",
              "\n",
              "      ... BILL_AMT4  BILL_AMT5  BILL_AMT6  PAY_AMT1  PAY_AMT2  PAY_AMT3  \\\n",
              "0     ...   17853.0    34527.0    28277.0       0.0    2145.0   10000.0   \n",
              "1     ...   30748.0    30162.0    30016.0       0.0       0.0       0.0   \n",
              "2     ...    6784.0     6923.0    14116.0       0.0       0.0    6784.0   \n",
              "3     ...   55182.0    48983.0    50136.0    3500.0    2000.0   20000.0   \n",
              "4     ...   47026.0    45971.0    47573.0       0.0    6500.0    1800.0   \n",
              "...   ...       ...        ...        ...       ...       ...       ...   \n",
              "9995  ...   84840.0    86954.0    83448.0    5000.0    5000.0    3000.0   \n",
              "9996  ...   -3261.0    36635.0    38396.0    2230.0     609.0       0.0   \n",
              "9997  ...    8086.0        0.0        0.0       0.0       0.0    8086.0   \n",
              "9998  ...  258610.0   246491.0   198889.0   13019.0   11128.0    8407.0   \n",
              "9999  ...   40274.0    41598.0    42926.0    2000.0    1800.0    2000.0   \n",
              "\n",
              "      PAY_AMT4  PAY_AMT5  PAY_AMT6  NEXT_MONTH_DEFAULT  \n",
              "0      22000.0    3000.0    5093.0                   0  \n",
              "1          0.0    3100.0     798.0                   1  \n",
              "2        159.0     167.0     760.0                   0  \n",
              "3       2000.0    2000.0    2000.0                   0  \n",
              "4          0.0    2500.0    2000.0                   0  \n",
              "...        ...       ...       ...                 ...  \n",
              "9995    3500.0    3000.0   82000.0                   1  \n",
              "9996   40396.0    3000.0  105100.0                   0  \n",
              "9997       0.0       0.0       0.0                   0  \n",
              "9998    8599.0    6833.0    5987.0                   1  \n",
              "9999    2000.0    2000.0    3000.0                   0  \n",
              "\n",
              "[10000 rows x 24 columns]"
            ],
            "text/html": [
              "\n",
              "  <div id=\"df-eac043fc-8464-4b72-808d-f42265ddefa0\">\n",
              "    <div class=\"colab-df-container\">\n",
              "      <div>\n",
              "<style scoped>\n",
              "    .dataframe tbody tr th:only-of-type {\n",
              "        vertical-align: middle;\n",
              "    }\n",
              "\n",
              "    .dataframe tbody tr th {\n",
              "        vertical-align: top;\n",
              "    }\n",
              "\n",
              "    .dataframe thead th {\n",
              "        text-align: right;\n",
              "    }\n",
              "</style>\n",
              "<table border=\"1\" class=\"dataframe\">\n",
              "  <thead>\n",
              "    <tr style=\"text-align: right;\">\n",
              "      <th></th>\n",
              "      <th>LIMIT_BAL</th>\n",
              "      <th>SEX</th>\n",
              "      <th>EDUCATION</th>\n",
              "      <th>MARRIAGE</th>\n",
              "      <th>AGE</th>\n",
              "      <th>PAY_1</th>\n",
              "      <th>PAY_2</th>\n",
              "      <th>PAY_3</th>\n",
              "      <th>PAY_4</th>\n",
              "      <th>PAY_5</th>\n",
              "      <th>...</th>\n",
              "      <th>BILL_AMT4</th>\n",
              "      <th>BILL_AMT5</th>\n",
              "      <th>BILL_AMT6</th>\n",
              "      <th>PAY_AMT1</th>\n",
              "      <th>PAY_AMT2</th>\n",
              "      <th>PAY_AMT3</th>\n",
              "      <th>PAY_AMT4</th>\n",
              "      <th>PAY_AMT5</th>\n",
              "      <th>PAY_AMT6</th>\n",
              "      <th>NEXT_MONTH_DEFAULT</th>\n",
              "    </tr>\n",
              "  </thead>\n",
              "  <tbody>\n",
              "    <tr>\n",
              "      <th>0</th>\n",
              "      <td>150000.0</td>\n",
              "      <td>2</td>\n",
              "      <td>2</td>\n",
              "      <td>2</td>\n",
              "      <td>24</td>\n",
              "      <td>1</td>\n",
              "      <td>2</td>\n",
              "      <td>0</td>\n",
              "      <td>0</td>\n",
              "      <td>0</td>\n",
              "      <td>...</td>\n",
              "      <td>17853.0</td>\n",
              "      <td>34527.0</td>\n",
              "      <td>28277.0</td>\n",
              "      <td>0.0</td>\n",
              "      <td>2145.0</td>\n",
              "      <td>10000.0</td>\n",
              "      <td>22000.0</td>\n",
              "      <td>3000.0</td>\n",
              "      <td>5093.0</td>\n",
              "      <td>0</td>\n",
              "    </tr>\n",
              "    <tr>\n",
              "      <th>1</th>\n",
              "      <td>50000.0</td>\n",
              "      <td>2</td>\n",
              "      <td>3</td>\n",
              "      <td>1</td>\n",
              "      <td>46</td>\n",
              "      <td>3</td>\n",
              "      <td>3</td>\n",
              "      <td>3</td>\n",
              "      <td>3</td>\n",
              "      <td>2</td>\n",
              "      <td>...</td>\n",
              "      <td>30748.0</td>\n",
              "      <td>30162.0</td>\n",
              "      <td>30016.0</td>\n",
              "      <td>0.0</td>\n",
              "      <td>0.0</td>\n",
              "      <td>0.0</td>\n",
              "      <td>0.0</td>\n",
              "      <td>3100.0</td>\n",
              "      <td>798.0</td>\n",
              "      <td>1</td>\n",
              "    </tr>\n",
              "    <tr>\n",
              "      <th>2</th>\n",
              "      <td>150000.0</td>\n",
              "      <td>2</td>\n",
              "      <td>2</td>\n",
              "      <td>1</td>\n",
              "      <td>41</td>\n",
              "      <td>-1</td>\n",
              "      <td>-1</td>\n",
              "      <td>-1</td>\n",
              "      <td>-1</td>\n",
              "      <td>0</td>\n",
              "      <td>...</td>\n",
              "      <td>6784.0</td>\n",
              "      <td>6923.0</td>\n",
              "      <td>14116.0</td>\n",
              "      <td>0.0</td>\n",
              "      <td>0.0</td>\n",
              "      <td>6784.0</td>\n",
              "      <td>159.0</td>\n",
              "      <td>167.0</td>\n",
              "      <td>760.0</td>\n",
              "      <td>0</td>\n",
              "    </tr>\n",
              "    <tr>\n",
              "      <th>3</th>\n",
              "      <td>150000.0</td>\n",
              "      <td>2</td>\n",
              "      <td>2</td>\n",
              "      <td>2</td>\n",
              "      <td>35</td>\n",
              "      <td>0</td>\n",
              "      <td>0</td>\n",
              "      <td>0</td>\n",
              "      <td>0</td>\n",
              "      <td>0</td>\n",
              "      <td>...</td>\n",
              "      <td>55182.0</td>\n",
              "      <td>48983.0</td>\n",
              "      <td>50136.0</td>\n",
              "      <td>3500.0</td>\n",
              "      <td>2000.0</td>\n",
              "      <td>20000.0</td>\n",
              "      <td>2000.0</td>\n",
              "      <td>2000.0</td>\n",
              "      <td>2000.0</td>\n",
              "      <td>0</td>\n",
              "    </tr>\n",
              "    <tr>\n",
              "      <th>4</th>\n",
              "      <td>70000.0</td>\n",
              "      <td>2</td>\n",
              "      <td>1</td>\n",
              "      <td>1</td>\n",
              "      <td>35</td>\n",
              "      <td>1</td>\n",
              "      <td>2</td>\n",
              "      <td>2</td>\n",
              "      <td>2</td>\n",
              "      <td>2</td>\n",
              "      <td>...</td>\n",
              "      <td>47026.0</td>\n",
              "      <td>45971.0</td>\n",
              "      <td>47573.0</td>\n",
              "      <td>0.0</td>\n",
              "      <td>6500.0</td>\n",
              "      <td>1800.0</td>\n",
              "      <td>0.0</td>\n",
              "      <td>2500.0</td>\n",
              "      <td>2000.0</td>\n",
              "      <td>0</td>\n",
              "    </tr>\n",
              "    <tr>\n",
              "      <th>...</th>\n",
              "      <td>...</td>\n",
              "      <td>...</td>\n",
              "      <td>...</td>\n",
              "      <td>...</td>\n",
              "      <td>...</td>\n",
              "      <td>...</td>\n",
              "      <td>...</td>\n",
              "      <td>...</td>\n",
              "      <td>...</td>\n",
              "      <td>...</td>\n",
              "      <td>...</td>\n",
              "      <td>...</td>\n",
              "      <td>...</td>\n",
              "      <td>...</td>\n",
              "      <td>...</td>\n",
              "      <td>...</td>\n",
              "      <td>...</td>\n",
              "      <td>...</td>\n",
              "      <td>...</td>\n",
              "      <td>...</td>\n",
              "      <td>...</td>\n",
              "    </tr>\n",
              "    <tr>\n",
              "      <th>9995</th>\n",
              "      <td>120000.0</td>\n",
              "      <td>1</td>\n",
              "      <td>2</td>\n",
              "      <td>2</td>\n",
              "      <td>38</td>\n",
              "      <td>0</td>\n",
              "      <td>0</td>\n",
              "      <td>0</td>\n",
              "      <td>0</td>\n",
              "      <td>0</td>\n",
              "      <td>...</td>\n",
              "      <td>84840.0</td>\n",
              "      <td>86954.0</td>\n",
              "      <td>83448.0</td>\n",
              "      <td>5000.0</td>\n",
              "      <td>5000.0</td>\n",
              "      <td>3000.0</td>\n",
              "      <td>3500.0</td>\n",
              "      <td>3000.0</td>\n",
              "      <td>82000.0</td>\n",
              "      <td>1</td>\n",
              "    </tr>\n",
              "    <tr>\n",
              "      <th>9996</th>\n",
              "      <td>390000.0</td>\n",
              "      <td>2</td>\n",
              "      <td>3</td>\n",
              "      <td>2</td>\n",
              "      <td>45</td>\n",
              "      <td>0</td>\n",
              "      <td>-1</td>\n",
              "      <td>-1</td>\n",
              "      <td>-1</td>\n",
              "      <td>-1</td>\n",
              "      <td>...</td>\n",
              "      <td>-3261.0</td>\n",
              "      <td>36635.0</td>\n",
              "      <td>38396.0</td>\n",
              "      <td>2230.0</td>\n",
              "      <td>609.0</td>\n",
              "      <td>0.0</td>\n",
              "      <td>40396.0</td>\n",
              "      <td>3000.0</td>\n",
              "      <td>105100.0</td>\n",
              "      <td>0</td>\n",
              "    </tr>\n",
              "    <tr>\n",
              "      <th>9997</th>\n",
              "      <td>500000.0</td>\n",
              "      <td>1</td>\n",
              "      <td>1</td>\n",
              "      <td>2</td>\n",
              "      <td>38</td>\n",
              "      <td>-1</td>\n",
              "      <td>-1</td>\n",
              "      <td>-1</td>\n",
              "      <td>-1</td>\n",
              "      <td>-1</td>\n",
              "      <td>...</td>\n",
              "      <td>8086.0</td>\n",
              "      <td>0.0</td>\n",
              "      <td>0.0</td>\n",
              "      <td>0.0</td>\n",
              "      <td>0.0</td>\n",
              "      <td>8086.0</td>\n",
              "      <td>0.0</td>\n",
              "      <td>0.0</td>\n",
              "      <td>0.0</td>\n",
              "      <td>0</td>\n",
              "    </tr>\n",
              "    <tr>\n",
              "      <th>9998</th>\n",
              "      <td>310000.0</td>\n",
              "      <td>2</td>\n",
              "      <td>2</td>\n",
              "      <td>1</td>\n",
              "      <td>35</td>\n",
              "      <td>2</td>\n",
              "      <td>0</td>\n",
              "      <td>0</td>\n",
              "      <td>0</td>\n",
              "      <td>0</td>\n",
              "      <td>...</td>\n",
              "      <td>258610.0</td>\n",
              "      <td>246491.0</td>\n",
              "      <td>198889.0</td>\n",
              "      <td>13019.0</td>\n",
              "      <td>11128.0</td>\n",
              "      <td>8407.0</td>\n",
              "      <td>8599.0</td>\n",
              "      <td>6833.0</td>\n",
              "      <td>5987.0</td>\n",
              "      <td>1</td>\n",
              "    </tr>\n",
              "    <tr>\n",
              "      <th>9999</th>\n",
              "      <td>80000.0</td>\n",
              "      <td>2</td>\n",
              "      <td>1</td>\n",
              "      <td>2</td>\n",
              "      <td>27</td>\n",
              "      <td>0</td>\n",
              "      <td>0</td>\n",
              "      <td>0</td>\n",
              "      <td>0</td>\n",
              "      <td>0</td>\n",
              "      <td>...</td>\n",
              "      <td>40274.0</td>\n",
              "      <td>41598.0</td>\n",
              "      <td>42926.0</td>\n",
              "      <td>2000.0</td>\n",
              "      <td>1800.0</td>\n",
              "      <td>2000.0</td>\n",
              "      <td>2000.0</td>\n",
              "      <td>2000.0</td>\n",
              "      <td>3000.0</td>\n",
              "      <td>0</td>\n",
              "    </tr>\n",
              "  </tbody>\n",
              "</table>\n",
              "<p>10000 rows × 24 columns</p>\n",
              "</div>\n",
              "      <button class=\"colab-df-convert\" onclick=\"convertToInteractive('df-eac043fc-8464-4b72-808d-f42265ddefa0')\"\n",
              "              title=\"Convert this dataframe to an interactive table.\"\n",
              "              style=\"display:none;\">\n",
              "        \n",
              "  <svg xmlns=\"http://www.w3.org/2000/svg\" height=\"24px\"viewBox=\"0 0 24 24\"\n",
              "       width=\"24px\">\n",
              "    <path d=\"M0 0h24v24H0V0z\" fill=\"none\"/>\n",
              "    <path d=\"M18.56 5.44l.94 2.06.94-2.06 2.06-.94-2.06-.94-.94-2.06-.94 2.06-2.06.94zm-11 1L8.5 8.5l.94-2.06 2.06-.94-2.06-.94L8.5 2.5l-.94 2.06-2.06.94zm10 10l.94 2.06.94-2.06 2.06-.94-2.06-.94-.94-2.06-.94 2.06-2.06.94z\"/><path d=\"M17.41 7.96l-1.37-1.37c-.4-.4-.92-.59-1.43-.59-.52 0-1.04.2-1.43.59L10.3 9.45l-7.72 7.72c-.78.78-.78 2.05 0 2.83L4 21.41c.39.39.9.59 1.41.59.51 0 1.02-.2 1.41-.59l7.78-7.78 2.81-2.81c.8-.78.8-2.07 0-2.86zM5.41 20L4 18.59l7.72-7.72 1.47 1.35L5.41 20z\"/>\n",
              "  </svg>\n",
              "      </button>\n",
              "      \n",
              "  <style>\n",
              "    .colab-df-container {\n",
              "      display:flex;\n",
              "      flex-wrap:wrap;\n",
              "      gap: 12px;\n",
              "    }\n",
              "\n",
              "    .colab-df-convert {\n",
              "      background-color: #E8F0FE;\n",
              "      border: none;\n",
              "      border-radius: 50%;\n",
              "      cursor: pointer;\n",
              "      display: none;\n",
              "      fill: #1967D2;\n",
              "      height: 32px;\n",
              "      padding: 0 0 0 0;\n",
              "      width: 32px;\n",
              "    }\n",
              "\n",
              "    .colab-df-convert:hover {\n",
              "      background-color: #E2EBFA;\n",
              "      box-shadow: 0px 1px 2px rgba(60, 64, 67, 0.3), 0px 1px 3px 1px rgba(60, 64, 67, 0.15);\n",
              "      fill: #174EA6;\n",
              "    }\n",
              "\n",
              "    [theme=dark] .colab-df-convert {\n",
              "      background-color: #3B4455;\n",
              "      fill: #D2E3FC;\n",
              "    }\n",
              "\n",
              "    [theme=dark] .colab-df-convert:hover {\n",
              "      background-color: #434B5C;\n",
              "      box-shadow: 0px 1px 3px 1px rgba(0, 0, 0, 0.15);\n",
              "      filter: drop-shadow(0px 1px 2px rgba(0, 0, 0, 0.3));\n",
              "      fill: #FFFFFF;\n",
              "    }\n",
              "  </style>\n",
              "\n",
              "      <script>\n",
              "        const buttonEl =\n",
              "          document.querySelector('#df-eac043fc-8464-4b72-808d-f42265ddefa0 button.colab-df-convert');\n",
              "        buttonEl.style.display =\n",
              "          google.colab.kernel.accessAllowed ? 'block' : 'none';\n",
              "\n",
              "        async function convertToInteractive(key) {\n",
              "          const element = document.querySelector('#df-eac043fc-8464-4b72-808d-f42265ddefa0');\n",
              "          const dataTable =\n",
              "            await google.colab.kernel.invokeFunction('convertToInteractive',\n",
              "                                                     [key], {});\n",
              "          if (!dataTable) return;\n",
              "\n",
              "          const docLinkHtml = 'Like what you see? Visit the ' +\n",
              "            '<a target=\"_blank\" href=https://colab.research.google.com/notebooks/data_table.ipynb>data table notebook</a>'\n",
              "            + ' to learn more about interactive tables.';\n",
              "          element.innerHTML = '';\n",
              "          dataTable['output_type'] = 'display_data';\n",
              "          await google.colab.output.renderOutput(dataTable, element);\n",
              "          const docLink = document.createElement('div');\n",
              "          docLink.innerHTML = docLinkHtml;\n",
              "          element.appendChild(docLink);\n",
              "        }\n",
              "      </script>\n",
              "    </div>\n",
              "  </div>\n",
              "  "
            ]
          },
          "metadata": {},
          "execution_count": 80
        }
      ]
    },
    {
      "cell_type": "markdown",
      "metadata": {
        "id": "vHxk_1rVJSCV"
      },
      "source": [
        "### Обработка выбросов<a class=\"anchor\" id=\"outliers\"></a>"
      ]
    },
    {
      "cell_type": "markdown",
      "metadata": {
        "id": "SAD_soPxQuS9"
      },
      "source": [
        "![image.png](data:image/png;base64,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)\n",
        "https://towardsdatascience.com/understanding-boxplots-5e2df7bcbd51"
      ]
    },
    {
      "cell_type": "code",
      "metadata": {
        "colab": {
          "base_uri": "https://localhost:8080/",
          "height": 281
        },
        "id": "Ha2TldyiQ0HN",
        "outputId": "15aa0fee-684c-4031-c102-cd9469efacfe"
      },
      "source": [
        "plt.boxplot(df['LIMIT_BAL'])\n",
        "plt.title('Анализ выбросов для признака LIMIT_BAL');"
      ],
      "execution_count": 81,
      "outputs": [
        {
          "output_type": "display_data",
          "data": {
            "text/plain": [
              "<Figure size 432x288 with 1 Axes>"
            ],
            "image/png": "[encoded data removed]"
          },
          "metadata": {
            "needs_background": "light"
          }
        }
      ]
    },
    {
      "cell_type": "code",
      "metadata": {
        "colab": {
          "base_uri": "https://localhost:8080/",
          "height": 281
        },
        "id": "tINSPxMgRpap",
        "outputId": "94987d0d-e2cb-48d1-a26b-bd2b97d51f3f"
      },
      "source": [
        "plt.boxplot(df['AGE'])\n",
        "plt.title('Анализ выбросов для признака AGE');"
      ],
      "execution_count": 82,
      "outputs": [
        {
          "output_type": "display_data",
          "data": {
            "text/plain": [
              "<Figure size 432x288 with 1 Axes>"
            ],
            "image/png": "[encoded data removed]"
          },
          "metadata": {
            "needs_background": "light"
          }
        }
      ]
    },
    {
      "cell_type": "code",
      "metadata": {
        "colab": {
          "base_uri": "https://localhost:8080/",
          "height": 281
        },
        "id": "67YUuV_eR6tV",
        "outputId": "b8865ce4-bd83-46be-9e2c-4a8888b2f01f"
      },
      "source": [
        "plt.boxplot(df['BILL_AMT1'])\n",
        "plt.title('Анализ выбросов для признака BILL_AMT1');"
      ],
      "execution_count": 49,
      "outputs": [
        {
          "output_type": "display_data",
          "data": {
            "text/plain": [
              "<Figure size 432x288 with 1 Axes>"
            ],
            "image/png": "[encoded data removed]"
          },
          "metadata": {
            "needs_background": "light"
          }
        }
      ]
    },
    {
      "cell_type": "code",
      "metadata": {
        "colab": {
          "base_uri": "https://localhost:8080/"
        },
        "id": "mx_YMJEPp3sc",
        "outputId": "b5e2179a-876a-4828-b96b-9c21c39a74c5"
      },
      "source": [
        "df['BILL_AMT1'].quantile([0.1, 0.25, 0.5, 0.75, 0.9])"
      ],
      "execution_count": 83,
      "outputs": [
        {
          "output_type": "execute_result",
          "data": {
            "text/plain": [
              "0.10       272.90\n",
              "0.25      3388.00\n",
              "0.50     22896.50\n",
              "0.75     67834.75\n",
              "0.90    140505.80\n",
              "Name: BILL_AMT1, dtype: float64"
            ]
          },
          "metadata": {},
          "execution_count": 83
        }
      ]
    },
    {
      "cell_type": "code",
      "metadata": {
        "colab": {
          "base_uri": "https://localhost:8080/"
        },
        "id": "xW06FEvYqMpZ",
        "outputId": "cd8c1a68-b55d-4337-c1b1-50fee5f81b97"
      },
      "source": [
        "df['BILL_AMT1'].median()"
      ],
      "execution_count": 84,
      "outputs": [
        {
          "output_type": "execute_result",
          "data": {
            "text/plain": [
              "22896.5"
            ]
          },
          "metadata": {},
          "execution_count": 84
        }
      ]
    },
    {
      "cell_type": "markdown",
      "metadata": {
        "id": "05ZZkjZ4JSCV"
      },
      "source": [
        "**EDUCATION**"
      ]
    },
    {
      "cell_type": "code",
      "source": [
        "df['EDUCATION'].value_counts()"
      ],
      "metadata": {
        "colab": {
          "base_uri": "https://localhost:8080/"
        },
        "id": "P-lMPpd6dEaa",
        "outputId": "01181548-4f6f-45f1-efaf-cda6dc0a36cd"
      },
      "execution_count": 85,
      "outputs": [
        {
          "output_type": "execute_result",
          "data": {
            "text/plain": [
              "2    4678\n",
              "1    3496\n",
              "3    1674\n",
              "5      90\n",
              "4      42\n",
              "6      18\n",
              "0       2\n",
              "Name: EDUCATION, dtype: int64"
            ]
          },
          "metadata": {},
          "execution_count": 85
        }
      ]
    },
    {
      "cell_type": "code",
      "metadata": {
        "id": "FcSwYqn-JSCV"
      },
      "source": [
        "df.loc[df['EDUCATION'] == '0', 'EDUCATION'] = df['EDUCATION'].mode()[0]"
      ],
      "execution_count": 86,
      "outputs": []
    },
    {
      "cell_type": "markdown",
      "metadata": {
        "id": "itmYBmrcJSCW"
      },
      "source": [
        "**MARRIAGE**"
      ]
    },
    {
      "cell_type": "code",
      "source": [
        "df['MARRIAGE'].value_counts()"
      ],
      "metadata": {
        "colab": {
          "base_uri": "https://localhost:8080/"
        },
        "id": "59kLHnbYdW7o",
        "outputId": "b0fbb97d-aba1-46a7-cce6-1fae2527de5b"
      },
      "execution_count": 88,
      "outputs": [
        {
          "output_type": "execute_result",
          "data": {
            "text/plain": [
              "2    5332\n",
              "1    4547\n",
              "3     108\n",
              "0      13\n",
              "Name: MARRIAGE, dtype: int64"
            ]
          },
          "metadata": {},
          "execution_count": 88
        }
      ]
    },
    {
      "cell_type": "code",
      "metadata": {
        "id": "7U9m96YAJSCW"
      },
      "source": [
        "df.loc[df['MARRIAGE'] == '0', 'MARRIAGE'] = df['MARRIAGE'].mode()[0]"
      ],
      "execution_count": 53,
      "outputs": []
    },
    {
      "cell_type": "markdown",
      "metadata": {
        "id": "D6vrl61dJSCW"
      },
      "source": [
        "### Построение новых признаков<a class=\"anchor\" id=\"new_features\"></a>"
      ]
    },
    {
      "cell_type": "markdown",
      "metadata": {
        "id": "ulOkH_TEJSCW"
      },
      "source": [
        "**Id**"
      ]
    },
    {
      "cell_type": "code",
      "metadata": {
        "id": "4jcLbDDWJSCW"
      },
      "source": [
        "df['ID'] = df.index.tolist()"
      ],
      "execution_count": 89,
      "outputs": []
    },
    {
      "cell_type": "markdown",
      "metadata": {
        "id": "rIpWddIMJSCX"
      },
      "source": [
        "**Dummies**"
      ]
    },
    {
      "cell_type": "code",
      "metadata": {
        "id": "W7CTGwoqJSCX"
      },
      "source": [
        "df['IS_MALE'] = df['SEX'].map({'1':'1', '2':'0'}).astype(int)"
      ],
      "execution_count": 90,
      "outputs": []
    },
    {
      "cell_type": "code",
      "metadata": {
        "id": "gchyNJJmJSCX"
      },
      "source": [
        "for cat_colname in df.select_dtypes(include='object').columns[1:]:\n",
        "    df = pd.concat([df, pd.get_dummies(df[cat_colname], prefix=cat_colname)], axis=1)"
      ],
      "execution_count": 91,
      "outputs": []
    },
    {
      "cell_type": "markdown",
      "metadata": {
        "id": "yTKwW0u4JSCX"
      },
      "source": [
        "### Сохранение обучающего датасета<a class=\"anchor\" id=\"saving\"></a>"
      ]
    },
    {
      "cell_type": "code",
      "metadata": {
        "id": "iGSdJEXBJSCX"
      },
      "source": [
        "df.to_csv(PREP_DATASET_PATH, index=False, encoding='utf-8')"
      ],
      "execution_count": 94,
      "outputs": []
    },
    {
      "cell_type": "markdown",
      "metadata": {
        "id": "4ZR5LLqjJSCX"
      },
      "source": [
        "## <center>Курсовой проект<a class=\"anchor\" id=\"course_project\"></a><center>"
      ]
    },
    {
      "cell_type": "markdown",
      "metadata": {
        "id": "31Qivx7UJSCY"
      },
      "source": [
        "### Постановка задачи<a class=\"anchor\" id=\"course_project_task\"></a>"
      ]
    },
    {
      "cell_type": "markdown",
      "metadata": {
        "id": "3tTSEYYKJSCY"
      },
      "source": [
        "**Задача**\n",
        "\n",
        "Требуется, на основании имеющихся данных о клиентах банка, построить модель, используя обучающий датасет, для прогнозирования невыполнения долговых обязательств по текущему кредиту. Выполнить прогноз для примеров из тестового датасета.\n",
        "\n",
        "**Наименование файлов с данными**\n",
        "\n",
        "course_project_train.csv - обучающий датасет<br>\n",
        "course_project_test.csv - тестовый датасет\n",
        "\n",
        "**Целевая переменная**\n",
        "\n",
        "Credit Default - факт невыполнения кредитных обязательств\n",
        "\n",
        "**Метрика качества**\n",
        "\n",
        "F1-score (sklearn.metrics.f1_score)\n",
        "\n",
        "**Требования к решению**\n",
        "\n",
        "*Целевая метрика*\n",
        "* F1 > 0.5\n",
        "* Метрика оценивается по качеству прогноза для главного класса (1 - просрочка по кредиту)\n",
        "\n",
        "*Решение должно содержать*\n",
        "1. Тетрадка Jupyter Notebook с кодом Вашего решения, названная по образцу {ФИО}\\_solution.ipynb, пример SShirkin\\_solution.ipynb\n",
        "2. Файл CSV с прогнозами целевой переменной для тестового датасета, названный по образцу {ФИО}\\_predictions.csv, пример SShirkin\\_predictions.csv\n",
        "\n",
        "*Рекомендации для файла с кодом (ipynb)*\n",
        "1. Файл должен содержать заголовки и комментарии (markdown)\n",
        "2. Повторяющиеся операции лучше оформлять в виде функций\n",
        "3. Не делать вывод большого количества строк таблиц (5-10 достаточно)\n",
        "4. По возможности добавлять графики, описывающие данные (около 3-5)\n",
        "5. Добавлять только лучшую модель, то есть не включать в код все варианты решения проекта\n",
        "6. Скрипт проекта должен отрабатывать от начала и до конца (от загрузки данных до выгрузки предсказаний)\n",
        "7. Весь проект должен быть в одном скрипте (файл ipynb).\n",
        "8. Допускается применение библиотек Python и моделей машинного обучения,\n",
        "которые были в данном курсе.\n",
        "\n",
        "**Сроки сдачи**\n",
        "\n",
        "Cдать проект нужно в течение 5 дней после окончания последнего вебинара.\n",
        "Оценки работ, сданных до дедлайна, будут представлены в виде рейтинга, ранжированного по заданной метрике качества.\n",
        "Проекты, сданные после дедлайна или сданные повторно, не попадают в рейтинг, но можно будет узнать результат."
      ]
    },
    {
      "cell_type": "markdown",
      "metadata": {
        "id": "0KQCIFd2JSCY"
      },
      "source": [
        "### Примерное описание этапов выполнения курсового проекта<a class=\"anchor\" id=\"course_project_steps\"></a>"
      ]
    },
    {
      "cell_type": "markdown",
      "metadata": {
        "id": "LeCQGMprzk8K"
      },
      "source": [
        ""
      ]
    },
    {
      "cell_type": "markdown",
      "metadata": {
        "id": "rw-3XR0SJSCY"
      },
      "source": [
        "**Построение модели классификации**\n",
        "1. Обзор обучающего датасета\n",
        "2. Обработка выбросов\n",
        "3. Обработка пропусков\n",
        "4. Анализ данных\n",
        "5. Отбор признаков\n",
        "6. Балансировка классов\n",
        "7. Подбор моделей, получение бейзлана\n",
        "8. Выбор наилучшей модели, настройка гиперпараметров\n",
        "9. Проверка качества, борьба с переобучением\n",
        "10. Интерпретация результатов\n",
        "\n",
        "**Прогнозирование на тестовом датасете**\n",
        "1. Выполнить для тестового датасета те же этапы обработки и постронияния признаков\n",
        "2. Спрогнозировать целевую переменную, используя модель, построенную на обучающем датасете\n",
        "3. Прогнозы должны быть для всех примеров из тестового датасета (для всех строк)\n",
        "4. Соблюдать исходный порядок примеров из тестового датасета"
      ]
    },
    {
      "cell_type": "markdown",
      "metadata": {
        "id": "dRXRTtdlJSCY"
      },
      "source": [
        "### Обзор данных<a class=\"anchor\" id=\"course_project_review\"></a>"
      ]
    },
    {
      "cell_type": "markdown",
      "metadata": {
        "id": "yq4RAuIsJSCY"
      },
      "source": [
        "**Описание датасета**\n",
        "\n",
        "* **Home Ownership** - домовладение\n",
        "* **Annual Income** - годовой доход\n",
        "* **Years in current job** - количество лет на текущем месте работы\n",
        "* **Tax Liens** - налоговые обременения\n",
        "* **Number of Open Accounts** - количество открытых счетов\n",
        "* **Years of Credit History** - количество лет кредитной истории\n",
        "* **Maximum Open Credit** - наибольший открытый кредит\n",
        "* **Number of Credit Problems** - количество проблем с кредитом\n",
        "* **Months since last delinquent** - количество месяцев с последней просрочки платежа\n",
        "* **Bankruptcies** - банкротства\n",
        "* **Purpose** - цель кредита\n",
        "* **Term** - срок кредита\n",
        "* **Current Loan Amount** - текущая сумма кредита\n",
        "* **Current Credit Balance** - текущий кредитный баланс\n",
        "* **Monthly Debt** - ежемесячный долг\n",
        "* **Credit Default** - факт невыполнения кредитных обязательств (0 - погашен вовремя, 1 - просрочка)"
      ]
    },
    {
      "cell_type": "markdown",
      "metadata": {
        "id": "hlOi8AkQJSCZ"
      },
      "source": [
        "**Пути к директориям и файлам**"
      ]
    },
    {
      "cell_type": "code",
      "metadata": {
        "id": "DKDy7yQGJSCZ"
      },
      "source": [
        "TRAIN_DATASET_PATH = 'GB_course_project_train.csv'\n",
        "TEST_DATASET_PATH = 'GB_course_project_test.csv'"
      ],
      "execution_count": 95,
      "outputs": []
    },
    {
      "cell_type": "markdown",
      "metadata": {
        "id": "eP98DY0YJSCZ"
      },
      "source": [
        "**Загрузка данных**"
      ]
    },
    {
      "cell_type": "code",
      "metadata": {
        "id": "Dwj_RmTVJSCZ",
        "colab": {
          "base_uri": "https://localhost:8080/",
          "height": 409
        },
        "outputId": "ce22bb44-b86d-44f7-a8b4-869a89cae4a7"
      },
      "source": [
        "df_train = pd.read_csv(TRAIN_DATASET_PATH)\n",
        "df_train.head()"
      ],
      "execution_count": 96,
      "outputs": [
        {
          "output_type": "execute_result",
          "data": {
            "text/plain": [
              "  Home Ownership  Annual Income Years in current job  Tax Liens  \\\n",
              "0       Own Home       482087.0                  NaN        0.0   \n",
              "1       Own Home      1025487.0            10+ years        0.0   \n",
              "2  Home Mortgage       751412.0              8 years        0.0   \n",
              "3       Own Home       805068.0              6 years        0.0   \n",
              "4           Rent       776264.0              8 years        0.0   \n",
              "\n",
              "   Number of Open Accounts  Years of Credit History  Maximum Open Credit  \\\n",
              "0                     11.0                     26.3             685960.0   \n",
              "1                     15.0                     15.3            1181730.0   \n",
              "2                     11.0                     35.0            1182434.0   \n",
              "3                      8.0                     22.5             147400.0   \n",
              "4                     13.0                     13.6             385836.0   \n",
              "\n",
              "   Number of Credit Problems  Months since last delinquent  Bankruptcies  \\\n",
              "0                        1.0                           NaN           1.0   \n",
              "1                        0.0                           NaN           0.0   \n",
              "2                        0.0                           NaN           0.0   \n",
              "3                        1.0                           NaN           1.0   \n",
              "4                        1.0                           NaN           0.0   \n",
              "\n",
              "              Purpose        Term  Current Loan Amount  \\\n",
              "0  debt consolidation  Short Term           99999999.0   \n",
              "1  debt consolidation   Long Term             264968.0   \n",
              "2  debt consolidation  Short Term           99999999.0   \n",
              "3  debt consolidation  Short Term             121396.0   \n",
              "4  debt consolidation  Short Term             125840.0   \n",
              "\n",
              "   Current Credit Balance  Monthly Debt  Credit Score  Credit Default  \n",
              "0                 47386.0        7914.0         749.0               0  \n",
              "1                394972.0       18373.0         737.0               1  \n",
              "2                308389.0       13651.0         742.0               0  \n",
              "3                 95855.0       11338.0         694.0               0  \n",
              "4                 93309.0        7180.0         719.0               0  "
            ],
            "text/html": [
              "\n",
              "  <div id=\"df-17c39a6f-bf29-4bb1-9cca-2ab71bb081bf\">\n",
              "    <div class=\"colab-df-container\">\n",
              "      <div>\n",
              "<style scoped>\n",
              "    .dataframe tbody tr th:only-of-type {\n",
              "        vertical-align: middle;\n",
              "    }\n",
              "\n",
              "    .dataframe tbody tr th {\n",
              "        vertical-align: top;\n",
              "    }\n",
              "\n",
              "    .dataframe thead th {\n",
              "        text-align: right;\n",
              "    }\n",
              "</style>\n",
              "<table border=\"1\" class=\"dataframe\">\n",
              "  <thead>\n",
              "    <tr style=\"text-align: right;\">\n",
              "      <th></th>\n",
              "      <th>Home Ownership</th>\n",
              "      <th>Annual Income</th>\n",
              "      <th>Years in current job</th>\n",
              "      <th>Tax Liens</th>\n",
              "      <th>Number of Open Accounts</th>\n",
              "      <th>Years of Credit History</th>\n",
              "      <th>Maximum Open Credit</th>\n",
              "      <th>Number of Credit Problems</th>\n",
              "      <th>Months since last delinquent</th>\n",
              "      <th>Bankruptcies</th>\n",
              "      <th>Purpose</th>\n",
              "      <th>Term</th>\n",
              "      <th>Current Loan Amount</th>\n",
              "      <th>Current Credit Balance</th>\n",
              "      <th>Monthly Debt</th>\n",
              "      <th>Credit Score</th>\n",
              "      <th>Credit Default</th>\n",
              "    </tr>\n",
              "  </thead>\n",
              "  <tbody>\n",
              "    <tr>\n",
              "      <th>0</th>\n",
              "      <td>Own Home</td>\n",
              "      <td>482087.0</td>\n",
              "      <td>NaN</td>\n",
              "      <td>0.0</td>\n",
              "      <td>11.0</td>\n",
              "      <td>26.3</td>\n",
              "      <td>685960.0</td>\n",
              "      <td>1.0</td>\n",
              "      <td>NaN</td>\n",
              "      <td>1.0</td>\n",
              "      <td>debt consolidation</td>\n",
              "      <td>Short Term</td>\n",
              "      <td>99999999.0</td>\n",
              "      <td>47386.0</td>\n",
              "      <td>7914.0</td>\n",
              "      <td>749.0</td>\n",
              "      <td>0</td>\n",
              "    </tr>\n",
              "    <tr>\n",
              "      <th>1</th>\n",
              "      <td>Own Home</td>\n",
              "      <td>1025487.0</td>\n",
              "      <td>10+ years</td>\n",
              "      <td>0.0</td>\n",
              "      <td>15.0</td>\n",
              "      <td>15.3</td>\n",
              "      <td>1181730.0</td>\n",
              "      <td>0.0</td>\n",
              "      <td>NaN</td>\n",
              "      <td>0.0</td>\n",
              "      <td>debt consolidation</td>\n",
              "      <td>Long Term</td>\n",
              "      <td>264968.0</td>\n",
              "      <td>394972.0</td>\n",
              "      <td>18373.0</td>\n",
              "      <td>737.0</td>\n",
              "      <td>1</td>\n",
              "    </tr>\n",
              "    <tr>\n",
              "      <th>2</th>\n",
              "      <td>Home Mortgage</td>\n",
              "      <td>751412.0</td>\n",
              "      <td>8 years</td>\n",
              "      <td>0.0</td>\n",
              "      <td>11.0</td>\n",
              "      <td>35.0</td>\n",
              "      <td>1182434.0</td>\n",
              "      <td>0.0</td>\n",
              "      <td>NaN</td>\n",
              "      <td>0.0</td>\n",
              "      <td>debt consolidation</td>\n",
              "      <td>Short Term</td>\n",
              "      <td>99999999.0</td>\n",
              "      <td>308389.0</td>\n",
              "      <td>13651.0</td>\n",
              "      <td>742.0</td>\n",
              "      <td>0</td>\n",
              "    </tr>\n",
              "    <tr>\n",
              "      <th>3</th>\n",
              "      <td>Own Home</td>\n",
              "      <td>805068.0</td>\n",
              "      <td>6 years</td>\n",
              "      <td>0.0</td>\n",
              "      <td>8.0</td>\n",
              "      <td>22.5</td>\n",
              "      <td>147400.0</td>\n",
              "      <td>1.0</td>\n",
              "      <td>NaN</td>\n",
              "      <td>1.0</td>\n",
              "      <td>debt consolidation</td>\n",
              "      <td>Short Term</td>\n",
              "      <td>121396.0</td>\n",
              "      <td>95855.0</td>\n",
              "      <td>11338.0</td>\n",
              "      <td>694.0</td>\n",
              "      <td>0</td>\n",
              "    </tr>\n",
              "    <tr>\n",
              "      <th>4</th>\n",
              "      <td>Rent</td>\n",
              "      <td>776264.0</td>\n",
              "      <td>8 years</td>\n",
              "      <td>0.0</td>\n",
              "      <td>13.0</td>\n",
              "      <td>13.6</td>\n",
              "      <td>385836.0</td>\n",
              "      <td>1.0</td>\n",
              "      <td>NaN</td>\n",
              "      <td>0.0</td>\n",
              "      <td>debt consolidation</td>\n",
              "      <td>Short Term</td>\n",
              "      <td>125840.0</td>\n",
              "      <td>93309.0</td>\n",
              "      <td>7180.0</td>\n",
              "      <td>719.0</td>\n",
              "      <td>0</td>\n",
              "    </tr>\n",
              "  </tbody>\n",
              "</table>\n",
              "</div>\n",
              "      <button class=\"colab-df-convert\" onclick=\"convertToInteractive('df-17c39a6f-bf29-4bb1-9cca-2ab71bb081bf')\"\n",
              "              title=\"Convert this dataframe to an interactive table.\"\n",
              "              style=\"display:none;\">\n",
              "        \n",
              "  <svg xmlns=\"http://www.w3.org/2000/svg\" height=\"24px\"viewBox=\"0 0 24 24\"\n",
              "       width=\"24px\">\n",
              "    <path d=\"M0 0h24v24H0V0z\" fill=\"none\"/>\n",
              "    <path d=\"M18.56 5.44l.94 2.06.94-2.06 2.06-.94-2.06-.94-.94-2.06-.94 2.06-2.06.94zm-11 1L8.5 8.5l.94-2.06 2.06-.94-2.06-.94L8.5 2.5l-.94 2.06-2.06.94zm10 10l.94 2.06.94-2.06 2.06-.94-2.06-.94-.94-2.06-.94 2.06-2.06.94z\"/><path d=\"M17.41 7.96l-1.37-1.37c-.4-.4-.92-.59-1.43-.59-.52 0-1.04.2-1.43.59L10.3 9.45l-7.72 7.72c-.78.78-.78 2.05 0 2.83L4 21.41c.39.39.9.59 1.41.59.51 0 1.02-.2 1.41-.59l7.78-7.78 2.81-2.81c.8-.78.8-2.07 0-2.86zM5.41 20L4 18.59l7.72-7.72 1.47 1.35L5.41 20z\"/>\n",
              "  </svg>\n",
              "      </button>\n",
              "      \n",
              "  <style>\n",
              "    .colab-df-container {\n",
              "      display:flex;\n",
              "      flex-wrap:wrap;\n",
              "      gap: 12px;\n",
              "    }\n",
              "\n",
              "    .colab-df-convert {\n",
              "      background-color: #E8F0FE;\n",
              "      border: none;\n",
              "      border-radius: 50%;\n",
              "      cursor: pointer;\n",
              "      display: none;\n",
              "      fill: #1967D2;\n",
              "      height: 32px;\n",
              "      padding: 0 0 0 0;\n",
              "      width: 32px;\n",
              "    }\n",
              "\n",
              "    .colab-df-convert:hover {\n",
              "      background-color: #E2EBFA;\n",
              "      box-shadow: 0px 1px 2px rgba(60, 64, 67, 0.3), 0px 1px 3px 1px rgba(60, 64, 67, 0.15);\n",
              "      fill: #174EA6;\n",
              "    }\n",
              "\n",
              "    [theme=dark] .colab-df-convert {\n",
              "      background-color: #3B4455;\n",
              "      fill: #D2E3FC;\n",
              "    }\n",
              "\n",
              "    [theme=dark] .colab-df-convert:hover {\n",
              "      background-color: #434B5C;\n",
              "      box-shadow: 0px 1px 3px 1px rgba(0, 0, 0, 0.15);\n",
              "      filter: drop-shadow(0px 1px 2px rgba(0, 0, 0, 0.3));\n",
              "      fill: #FFFFFF;\n",
              "    }\n",
              "  </style>\n",
              "\n",
              "      <script>\n",
              "        const buttonEl =\n",
              "          document.querySelector('#df-17c39a6f-bf29-4bb1-9cca-2ab71bb081bf button.colab-df-convert');\n",
              "        buttonEl.style.display =\n",
              "          google.colab.kernel.accessAllowed ? 'block' : 'none';\n",
              "\n",
              "        async function convertToInteractive(key) {\n",
              "          const element = document.querySelector('#df-17c39a6f-bf29-4bb1-9cca-2ab71bb081bf');\n",
              "          const dataTable =\n",
              "            await google.colab.kernel.invokeFunction('convertToInteractive',\n",
              "                                                     [key], {});\n",
              "          if (!dataTable) return;\n",
              "\n",
              "          const docLinkHtml = 'Like what you see? Visit the ' +\n",
              "            '<a target=\"_blank\" href=https://colab.research.google.com/notebooks/data_table.ipynb>data table notebook</a>'\n",
              "            + ' to learn more about interactive tables.';\n",
              "          element.innerHTML = '';\n",
              "          dataTable['output_type'] = 'display_data';\n",
              "          await google.colab.output.renderOutput(dataTable, element);\n",
              "          const docLink = document.createElement('div');\n",
              "          docLink.innerHTML = docLinkHtml;\n",
              "          element.appendChild(docLink);\n",
              "        }\n",
              "      </script>\n",
              "    </div>\n",
              "  </div>\n",
              "  "
            ]
          },
          "metadata": {},
          "execution_count": 96
        }
      ]
    },
    {
      "cell_type": "code",
      "metadata": {
        "id": "-ri5C7HJJSCa",
        "colab": {
          "base_uri": "https://localhost:8080/"
        },
        "outputId": "d8d23ed6-9071-416b-c146-6ffe66d419f0"
      },
      "source": [
        "df_train.shape"
      ],
      "execution_count": 97,
      "outputs": [
        {
          "output_type": "execute_result",
          "data": {
            "text/plain": [
              "(7500, 17)"
            ]
          },
          "metadata": {},
          "execution_count": 97
        }
      ]
    },
    {
      "cell_type": "code",
      "metadata": {
        "id": "JLg6tzyRJSCa",
        "colab": {
          "base_uri": "https://localhost:8080/"
        },
        "outputId": "ba15e53a-71f3-44a4-9087-3b26a1a87ada"
      },
      "source": [
        "df_train.iloc[0]"
      ],
      "execution_count": 98,
      "outputs": [
        {
          "output_type": "execute_result",
          "data": {
            "text/plain": [
              "Home Ownership                            Own Home\n",
              "Annual Income                             482087.0\n",
              "Years in current job                           NaN\n",
              "Tax Liens                                      0.0\n",
              "Number of Open Accounts                       11.0\n",
              "Years of Credit History                       26.3\n",
              "Maximum Open Credit                       685960.0\n",
              "Number of Credit Problems                      1.0\n",
              "Months since last delinquent                   NaN\n",
              "Bankruptcies                                   1.0\n",
              "Purpose                         debt consolidation\n",
              "Term                                    Short Term\n",
              "Current Loan Amount                     99999999.0\n",
              "Current Credit Balance                     47386.0\n",
              "Monthly Debt                                7914.0\n",
              "Credit Score                                 749.0\n",
              "Credit Default                                   0\n",
              "Name: 0, dtype: object"
            ]
          },
          "metadata": {},
          "execution_count": 98
        }
      ]
    },
    {
      "cell_type": "code",
      "metadata": {
        "id": "J0-m0sNuJSCa",
        "colab": {
          "base_uri": "https://localhost:8080/"
        },
        "outputId": "f56520a7-9e74-4cdb-e918-32267c57b233"
      },
      "source": [
        "df_train['Credit Default'].value_counts()"
      ],
      "execution_count": 99,
      "outputs": [
        {
          "output_type": "execute_result",
          "data": {
            "text/plain": [
              "0    5387\n",
              "1    2113\n",
              "Name: Credit Default, dtype: int64"
            ]
          },
          "metadata": {},
          "execution_count": 99
        }
      ]
    },
    {
      "cell_type": "code",
      "metadata": {
        "id": "eeF-LWG9JSCa",
        "colab": {
          "base_uri": "https://localhost:8080/",
          "height": 409
        },
        "outputId": "99acfb25-594d-43e4-e8d2-7ab204b2f70c"
      },
      "source": [
        "df_test = pd.read_csv(TEST_DATASET_PATH)\n",
        "df_test.head()"
      ],
      "execution_count": 100,
      "outputs": [
        {
          "output_type": "execute_result",
          "data": {
            "text/plain": [
              "  Home Ownership  Annual Income Years in current job  Tax Liens  \\\n",
              "0           Rent            NaN              4 years        0.0   \n",
              "1           Rent       231838.0               1 year        0.0   \n",
              "2  Home Mortgage      1152540.0              3 years        0.0   \n",
              "3  Home Mortgage      1220313.0            10+ years        0.0   \n",
              "4  Home Mortgage      2340952.0              6 years        0.0   \n",
              "\n",
              "   Number of Open Accounts  Years of Credit History  Maximum Open Credit  \\\n",
              "0                      9.0                     12.5             220968.0   \n",
              "1                      6.0                     32.7              55946.0   \n",
              "2                     10.0                     13.7             204600.0   \n",
              "3                     16.0                     17.0             456302.0   \n",
              "4                     11.0                     23.6            1207272.0   \n",
              "\n",
              "   Number of Credit Problems  Months since last delinquent  Bankruptcies  \\\n",
              "0                        0.0                          70.0           0.0   \n",
              "1                        0.0                           8.0           0.0   \n",
              "2                        0.0                           NaN           0.0   \n",
              "3                        0.0                          70.0           0.0   \n",
              "4                        0.0                           NaN           0.0   \n",
              "\n",
              "                Purpose        Term  Current Loan Amount  \\\n",
              "0    debt consolidation  Short Term             162470.0   \n",
              "1  educational expenses  Short Term              78298.0   \n",
              "2    debt consolidation  Short Term             200178.0   \n",
              "3    debt consolidation  Short Term             217382.0   \n",
              "4    debt consolidation   Long Term             777634.0   \n",
              "\n",
              "   Current Credit Balance  Monthly Debt  Credit Score  \n",
              "0                105906.0        6813.0           NaN  \n",
              "1                 46037.0        2318.0         699.0  \n",
              "2                146490.0       18729.0        7260.0  \n",
              "3                213199.0       27559.0         739.0  \n",
              "4                425391.0       42605.0         706.0  "
            ],
            "text/html": [
              "\n",
              "  <div id=\"df-4da54e59-9197-42aa-a39c-9e586b915987\">\n",
              "    <div class=\"colab-df-container\">\n",
              "      <div>\n",
              "<style scoped>\n",
              "    .dataframe tbody tr th:only-of-type {\n",
              "        vertical-align: middle;\n",
              "    }\n",
              "\n",
              "    .dataframe tbody tr th {\n",
              "        vertical-align: top;\n",
              "    }\n",
              "\n",
              "    .dataframe thead th {\n",
              "        text-align: right;\n",
              "    }\n",
              "</style>\n",
              "<table border=\"1\" class=\"dataframe\">\n",
              "  <thead>\n",
              "    <tr style=\"text-align: right;\">\n",
              "      <th></th>\n",
              "      <th>Home Ownership</th>\n",
              "      <th>Annual Income</th>\n",
              "      <th>Years in current job</th>\n",
              "      <th>Tax Liens</th>\n",
              "      <th>Number of Open Accounts</th>\n",
              "      <th>Years of Credit History</th>\n",
              "      <th>Maximum Open Credit</th>\n",
              "      <th>Number of Credit Problems</th>\n",
              "      <th>Months since last delinquent</th>\n",
              "      <th>Bankruptcies</th>\n",
              "      <th>Purpose</th>\n",
              "      <th>Term</th>\n",
              "      <th>Current Loan Amount</th>\n",
              "      <th>Current Credit Balance</th>\n",
              "      <th>Monthly Debt</th>\n",
              "      <th>Credit Score</th>\n",
              "    </tr>\n",
              "  </thead>\n",
              "  <tbody>\n",
              "    <tr>\n",
              "      <th>0</th>\n",
              "      <td>Rent</td>\n",
              "      <td>NaN</td>\n",
              "      <td>4 years</td>\n",
              "      <td>0.0</td>\n",
              "      <td>9.0</td>\n",
              "      <td>12.5</td>\n",
              "      <td>220968.0</td>\n",
              "      <td>0.0</td>\n",
              "      <td>70.0</td>\n",
              "      <td>0.0</td>\n",
              "      <td>debt consolidation</td>\n",
              "      <td>Short Term</td>\n",
              "      <td>162470.0</td>\n",
              "      <td>105906.0</td>\n",
              "      <td>6813.0</td>\n",
              "      <td>NaN</td>\n",
              "    </tr>\n",
              "    <tr>\n",
              "      <th>1</th>\n",
              "      <td>Rent</td>\n",
              "      <td>231838.0</td>\n",
              "      <td>1 year</td>\n",
              "      <td>0.0</td>\n",
              "      <td>6.0</td>\n",
              "      <td>32.7</td>\n",
              "      <td>55946.0</td>\n",
              "      <td>0.0</td>\n",
              "      <td>8.0</td>\n",
              "      <td>0.0</td>\n",
              "      <td>educational expenses</td>\n",
              "      <td>Short Term</td>\n",
              "      <td>78298.0</td>\n",
              "      <td>46037.0</td>\n",
              "      <td>2318.0</td>\n",
              "      <td>699.0</td>\n",
              "    </tr>\n",
              "    <tr>\n",
              "      <th>2</th>\n",
              "      <td>Home Mortgage</td>\n",
              "      <td>1152540.0</td>\n",
              "      <td>3 years</td>\n",
              "      <td>0.0</td>\n",
              "      <td>10.0</td>\n",
              "      <td>13.7</td>\n",
              "      <td>204600.0</td>\n",
              "      <td>0.0</td>\n",
              "      <td>NaN</td>\n",
              "      <td>0.0</td>\n",
              "      <td>debt consolidation</td>\n",
              "      <td>Short Term</td>\n",
              "      <td>200178.0</td>\n",
              "      <td>146490.0</td>\n",
              "      <td>18729.0</td>\n",
              "      <td>7260.0</td>\n",
              "    </tr>\n",
              "    <tr>\n",
              "      <th>3</th>\n",
              "      <td>Home Mortgage</td>\n",
              "      <td>1220313.0</td>\n",
              "      <td>10+ years</td>\n",
              "      <td>0.0</td>\n",
              "      <td>16.0</td>\n",
              "      <td>17.0</td>\n",
              "      <td>456302.0</td>\n",
              "      <td>0.0</td>\n",
              "      <td>70.0</td>\n",
              "      <td>0.0</td>\n",
              "      <td>debt consolidation</td>\n",
              "      <td>Short Term</td>\n",
              "      <td>217382.0</td>\n",
              "      <td>213199.0</td>\n",
              "      <td>27559.0</td>\n",
              "      <td>739.0</td>\n",
              "    </tr>\n",
              "    <tr>\n",
              "      <th>4</th>\n",
              "      <td>Home Mortgage</td>\n",
              "      <td>2340952.0</td>\n",
              "      <td>6 years</td>\n",
              "      <td>0.0</td>\n",
              "      <td>11.0</td>\n",
              "      <td>23.6</td>\n",
              "      <td>1207272.0</td>\n",
              "      <td>0.0</td>\n",
              "      <td>NaN</td>\n",
              "      <td>0.0</td>\n",
              "      <td>debt consolidation</td>\n",
              "      <td>Long Term</td>\n",
              "      <td>777634.0</td>\n",
              "      <td>425391.0</td>\n",
              "      <td>42605.0</td>\n",
              "      <td>706.0</td>\n",
              "    </tr>\n",
              "  </tbody>\n",
              "</table>\n",
              "</div>\n",
              "      <button class=\"colab-df-convert\" onclick=\"convertToInteractive('df-4da54e59-9197-42aa-a39c-9e586b915987')\"\n",
              "              title=\"Convert this dataframe to an interactive table.\"\n",
              "              style=\"display:none;\">\n",
              "        \n",
              "  <svg xmlns=\"http://www.w3.org/2000/svg\" height=\"24px\"viewBox=\"0 0 24 24\"\n",
              "       width=\"24px\">\n",
              "    <path d=\"M0 0h24v24H0V0z\" fill=\"none\"/>\n",
              "    <path d=\"M18.56 5.44l.94 2.06.94-2.06 2.06-.94-2.06-.94-.94-2.06-.94 2.06-2.06.94zm-11 1L8.5 8.5l.94-2.06 2.06-.94-2.06-.94L8.5 2.5l-.94 2.06-2.06.94zm10 10l.94 2.06.94-2.06 2.06-.94-2.06-.94-.94-2.06-.94 2.06-2.06.94z\"/><path d=\"M17.41 7.96l-1.37-1.37c-.4-.4-.92-.59-1.43-.59-.52 0-1.04.2-1.43.59L10.3 9.45l-7.72 7.72c-.78.78-.78 2.05 0 2.83L4 21.41c.39.39.9.59 1.41.59.51 0 1.02-.2 1.41-.59l7.78-7.78 2.81-2.81c.8-.78.8-2.07 0-2.86zM5.41 20L4 18.59l7.72-7.72 1.47 1.35L5.41 20z\"/>\n",
              "  </svg>\n",
              "      </button>\n",
              "      \n",
              "  <style>\n",
              "    .colab-df-container {\n",
              "      display:flex;\n",
              "      flex-wrap:wrap;\n",
              "      gap: 12px;\n",
              "    }\n",
              "\n",
              "    .colab-df-convert {\n",
              "      background-color: #E8F0FE;\n",
              "      border: none;\n",
              "      border-radius: 50%;\n",
              "      cursor: pointer;\n",
              "      display: none;\n",
              "      fill: #1967D2;\n",
              "      height: 32px;\n",
              "      padding: 0 0 0 0;\n",
              "      width: 32px;\n",
              "    }\n",
              "\n",
              "    .colab-df-convert:hover {\n",
              "      background-color: #E2EBFA;\n",
              "      box-shadow: 0px 1px 2px rgba(60, 64, 67, 0.3), 0px 1px 3px 1px rgba(60, 64, 67, 0.15);\n",
              "      fill: #174EA6;\n",
              "    }\n",
              "\n",
              "    [theme=dark] .colab-df-convert {\n",
              "      background-color: #3B4455;\n",
              "      fill: #D2E3FC;\n",
              "    }\n",
              "\n",
              "    [theme=dark] .colab-df-convert:hover {\n",
              "      background-color: #434B5C;\n",
              "      box-shadow: 0px 1px 3px 1px rgba(0, 0, 0, 0.15);\n",
              "      filter: drop-shadow(0px 1px 2px rgba(0, 0, 0, 0.3));\n",
              "      fill: #FFFFFF;\n",
              "    }\n",
              "  </style>\n",
              "\n",
              "      <script>\n",
              "        const buttonEl =\n",
              "          document.querySelector('#df-4da54e59-9197-42aa-a39c-9e586b915987 button.colab-df-convert');\n",
              "        buttonEl.style.display =\n",
              "          google.colab.kernel.accessAllowed ? 'block' : 'none';\n",
              "\n",
              "        async function convertToInteractive(key) {\n",
              "          const element = document.querySelector('#df-4da54e59-9197-42aa-a39c-9e586b915987');\n",
              "          const dataTable =\n",
              "            await google.colab.kernel.invokeFunction('convertToInteractive',\n",
              "                                                     [key], {});\n",
              "          if (!dataTable) return;\n",
              "\n",
              "          const docLinkHtml = 'Like what you see? Visit the ' +\n",
              "            '<a target=\"_blank\" href=https://colab.research.google.com/notebooks/data_table.ipynb>data table notebook</a>'\n",
              "            + ' to learn more about interactive tables.';\n",
              "          element.innerHTML = '';\n",
              "          dataTable['output_type'] = 'display_data';\n",
              "          await google.colab.output.renderOutput(dataTable, element);\n",
              "          const docLink = document.createElement('div');\n",
              "          docLink.innerHTML = docLinkHtml;\n",
              "          element.appendChild(docLink);\n",
              "        }\n",
              "      </script>\n",
              "    </div>\n",
              "  </div>\n",
              "  "
            ]
          },
          "metadata": {},
          "execution_count": 100
        }
      ]
    },
    {
      "cell_type": "code",
      "metadata": {
        "id": "tcYuK6JBJSCa",
        "colab": {
          "base_uri": "https://localhost:8080/"
        },
        "outputId": "121cf07a-c1e0-4e5e-f829-5d2e740b239f"
      },
      "source": [
        "df_test.shape"
      ],
      "execution_count": 64,
      "outputs": [
        {
          "output_type": "execute_result",
          "data": {
            "text/plain": [
              "(2500, 16)"
            ]
          },
          "metadata": {},
          "execution_count": 64
        }
      ]
    },
    {
      "cell_type": "code",
      "metadata": {
        "id": "2xg6ePGbJSCb"
      },
      "source": [
        ""
      ],
      "execution_count": 64,
      "outputs": []
    }
  ]
}